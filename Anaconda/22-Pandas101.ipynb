{
 "cells": [
  {
   "cell_type": "code",
   "execution_count": 1,
   "id": "291485e7",
   "metadata": {},
   "outputs": [],
   "source": [
    "import numpy as np\n",
    "import pandas as pd"
   ]
  },
  {
   "cell_type": "markdown",
   "id": "14274cda",
   "metadata": {},
   "source": [
    "## Series"
   ]
  },
  {
   "cell_type": "code",
   "execution_count": 2,
   "id": "031308ae",
   "metadata": {},
   "outputs": [],
   "source": [
    "mydictionary = {\"CPU\" : 40, \"GPU\" : 100, \"RAM\" : 20}"
   ]
  },
  {
   "cell_type": "code",
   "execution_count": 5,
   "id": "6d0f9290",
   "metadata": {},
   "outputs": [
    {
     "data": {
      "text/plain": [
       "CPU     40\n",
       "GPU    100\n",
       "RAM     20\n",
       "dtype: int64"
      ]
     },
     "execution_count": 5,
     "metadata": {},
     "output_type": "execute_result"
    }
   ],
   "source": [
    "pd.Series(mydictionary)"
   ]
  },
  {
   "cell_type": "code",
   "execution_count": 9,
   "id": "9db8b5bc",
   "metadata": {},
   "outputs": [],
   "source": [
    "mycost = [40, 100, 20]\n",
    "myproduct = [\"CPU\", \"GPU\", \"RAM\"]"
   ]
  },
  {
   "cell_type": "code",
   "execution_count": 10,
   "id": "0b5e52ec",
   "metadata": {},
   "outputs": [
    {
     "data": {
      "text/plain": [
       "CPU     40\n",
       "GPU    100\n",
       "RAM     20\n",
       "dtype: int64"
      ]
     },
     "execution_count": 10,
     "metadata": {},
     "output_type": "execute_result"
    }
   ],
   "source": [
    "pd.Series(mycost, myproduct)"
   ]
  },
  {
   "cell_type": "code",
   "execution_count": 11,
   "id": "6abc07b7",
   "metadata": {},
   "outputs": [
    {
     "data": {
      "text/plain": [
       "CPU     40\n",
       "GPU    100\n",
       "RAM     20\n",
       "dtype: int64"
      ]
     },
     "execution_count": 11,
     "metadata": {},
     "output_type": "execute_result"
    }
   ],
   "source": [
    "pd.Series(data = mycost, index = myproduct)"
   ]
  },
  {
   "cell_type": "code",
   "execution_count": 12,
   "id": "d12e5c68",
   "metadata": {},
   "outputs": [],
   "source": [
    "numpyseries = np.array([40, 100, 20])"
   ]
  },
  {
   "cell_type": "code",
   "execution_count": 13,
   "id": "71dbb86f",
   "metadata": {},
   "outputs": [
    {
     "data": {
      "text/plain": [
       "array([ 40, 100,  20])"
      ]
     },
     "execution_count": 13,
     "metadata": {},
     "output_type": "execute_result"
    }
   ],
   "source": [
    "numpyseries"
   ]
  },
  {
   "cell_type": "code",
   "execution_count": 14,
   "id": "882d2f9f",
   "metadata": {},
   "outputs": [
    {
     "data": {
      "text/plain": [
       "0     40\n",
       "1    100\n",
       "2     20\n",
       "dtype: int64"
      ]
     },
     "execution_count": 14,
     "metadata": {},
     "output_type": "execute_result"
    }
   ],
   "source": [
    "pd.Series(numpyseries)"
   ]
  },
  {
   "cell_type": "code",
   "execution_count": 18,
   "id": "854b8017",
   "metadata": {},
   "outputs": [
    {
     "data": {
      "text/plain": [
       "1     Dog\n",
       "2     Cat\n",
       "3    Bird\n",
       "dtype: object"
      ]
     },
     "execution_count": 18,
     "metadata": {},
     "output_type": "execute_result"
    }
   ],
   "source": [
    "pd.Series([\"Dog\", \"Cat\", \"Bird\"], [1,2,3])"
   ]
  },
  {
   "cell_type": "code",
   "execution_count": 19,
   "id": "00b13972",
   "metadata": {},
   "outputs": [],
   "source": [
    "competionResult1 = pd.Series([10,5,1],[\"Dog\", \"Cat\", \"Bird\"])"
   ]
  },
  {
   "cell_type": "code",
   "execution_count": 20,
   "id": "49bdef4b",
   "metadata": {},
   "outputs": [
    {
     "data": {
      "text/plain": [
       "Dog     10\n",
       "Cat      5\n",
       "Bird     1\n",
       "dtype: int64"
      ]
     },
     "execution_count": 20,
     "metadata": {},
     "output_type": "execute_result"
    }
   ],
   "source": [
    "competionResult1"
   ]
  },
  {
   "cell_type": "code",
   "execution_count": 21,
   "id": "2da9c21e",
   "metadata": {},
   "outputs": [],
   "source": [
    "competionResult2 = pd.Series([20,10,8],[\"Dog\", \"Cat\", \"Bird\"])"
   ]
  },
  {
   "cell_type": "code",
   "execution_count": 23,
   "id": "660a1bc9",
   "metadata": {},
   "outputs": [
    {
     "data": {
      "text/plain": [
       "10"
      ]
     },
     "execution_count": 23,
     "metadata": {},
     "output_type": "execute_result"
    }
   ],
   "source": [
    "competionResult2[\"Cat\"]"
   ]
  },
  {
   "cell_type": "code",
   "execution_count": 24,
   "id": "bd3c6f80",
   "metadata": {},
   "outputs": [],
   "source": [
    "finalResult = competionResult1 + competionResult2"
   ]
  },
  {
   "cell_type": "code",
   "execution_count": 25,
   "id": "5e76427d",
   "metadata": {},
   "outputs": [
    {
     "name": "stdout",
     "output_type": "stream",
     "text": [
      "Dog     30\n",
      "Cat     15\n",
      "Bird     9\n",
      "dtype: int64\n"
     ]
    }
   ],
   "source": [
    "print(finalResult)"
   ]
  },
  {
   "cell_type": "code",
   "execution_count": 26,
   "id": "cbd769c8",
   "metadata": {},
   "outputs": [],
   "source": [
    "difSeries = pd.Series([20,30,40,50],[\"a\",\"b\",\"c\",\"d\"])\n",
    "difSeries2 = pd.Series([10,5,3,1],[\"a\",\"c\",\"f\",\"g\"])"
   ]
  },
  {
   "cell_type": "code",
   "execution_count": 27,
   "id": "7f8fad5e",
   "metadata": {},
   "outputs": [
    {
     "name": "stdout",
     "output_type": "stream",
     "text": [
      "a    20\n",
      "b    30\n",
      "c    40\n",
      "d    50\n",
      "dtype: int64\n",
      "a    10\n",
      "c     5\n",
      "f     3\n",
      "g     1\n",
      "dtype: int64\n"
     ]
    }
   ],
   "source": [
    "print(difSeries)\n",
    "print(difSeries2)"
   ]
  },
  {
   "cell_type": "code",
   "execution_count": 28,
   "id": "bf8df583",
   "metadata": {},
   "outputs": [
    {
     "data": {
      "text/plain": [
       "a    30.0\n",
       "b     NaN\n",
       "c    45.0\n",
       "d     NaN\n",
       "f     NaN\n",
       "g     NaN\n",
       "dtype: float64"
      ]
     },
     "execution_count": 28,
     "metadata": {},
     "output_type": "execute_result"
    }
   ],
   "source": [
    "difSeries + difSeries2"
   ]
  },
  {
   "cell_type": "code",
   "execution_count": 29,
   "id": "cfe3662f",
   "metadata": {},
   "outputs": [
    {
     "data": {
      "text/plain": [
       "a    20\n",
       "b    30\n",
       "c    40\n",
       "d    50\n",
       "dtype: int64"
      ]
     },
     "execution_count": 29,
     "metadata": {},
     "output_type": "execute_result"
    }
   ],
   "source": [
    "difSeries"
   ]
  },
  {
   "cell_type": "code",
   "execution_count": null,
   "id": "06932cda",
   "metadata": {},
   "outputs": [],
   "source": []
  }
 ],
 "metadata": {
  "kernelspec": {
   "display_name": "Python 3 (ipykernel)",
   "language": "python",
   "name": "python3"
  },
  "language_info": {
   "codemirror_mode": {
    "name": "ipython",
    "version": 3
   },
   "file_extension": ".py",
   "mimetype": "text/x-python",
   "name": "python",
   "nbconvert_exporter": "python",
   "pygments_lexer": "ipython3",
   "version": "3.9.7"
  }
 },
 "nbformat": 4,
 "nbformat_minor": 5
}
