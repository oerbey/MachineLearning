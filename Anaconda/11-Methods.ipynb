{
 "cells": [
  {
   "cell_type": "markdown",
   "id": "a078699f",
   "metadata": {},
   "source": [
    "## Range"
   ]
  },
  {
   "cell_type": "code",
   "execution_count": 2,
   "id": "6ee03c61",
   "metadata": {},
   "outputs": [
    {
     "data": {
      "text/plain": [
       "range(0, 15)"
      ]
     },
     "execution_count": 2,
     "metadata": {},
     "output_type": "execute_result"
    }
   ],
   "source": [
    "range(15)"
   ]
  },
  {
   "cell_type": "code",
   "execution_count": 3,
   "id": "6faade5f",
   "metadata": {},
   "outputs": [
    {
     "data": {
      "text/plain": [
       "[0, 1, 2, 3, 4, 5, 6, 7, 8, 9, 10, 11, 12, 13, 14]"
      ]
     },
     "execution_count": 3,
     "metadata": {},
     "output_type": "execute_result"
    }
   ],
   "source": [
    "list(range(15))"
   ]
  },
  {
   "cell_type": "code",
   "execution_count": 5,
   "id": "7e11a873",
   "metadata": {},
   "outputs": [
    {
     "name": "stdout",
     "output_type": "stream",
     "text": [
      "0\n",
      "5\n",
      "10\n",
      "15\n",
      "20\n",
      "25\n",
      "30\n",
      "35\n",
      "40\n",
      "45\n",
      "50\n",
      "55\n",
      "60\n",
      "65\n",
      "70\n"
     ]
    }
   ],
   "source": [
    "for n in list(range(15)):\n",
    "    print(n * 5)"
   ]
  },
  {
   "cell_type": "code",
   "execution_count": 6,
   "id": "c5810420",
   "metadata": {},
   "outputs": [
    {
     "data": {
      "text/plain": [
       "[5, 9, 13, 17]"
      ]
     },
     "execution_count": 6,
     "metadata": {},
     "output_type": "execute_result"
    }
   ],
   "source": [
    "list(range(5,21,4))"
   ]
  },
  {
   "cell_type": "markdown",
   "id": "72f6cc0a",
   "metadata": {},
   "source": [
    "## Enumarate"
   ]
  },
  {
   "cell_type": "code",
   "execution_count": 7,
   "id": "d530bfb5",
   "metadata": {},
   "outputs": [
    {
     "name": "stdout",
     "output_type": "stream",
     "text": [
      "Update: 5 index update: 0\n",
      "Update: 6 index update: 1\n",
      "Update: 7 index update: 2\n",
      "Update: 8 index update: 3\n",
      "Update: 9 index update: 4\n",
      "Update: 10 index update: 5\n",
      "Update: 11 index update: 6\n",
      "Update: 12 index update: 7\n",
      "Update: 13 index update: 8\n",
      "Update: 14 index update: 9\n"
     ]
    }
   ],
   "source": [
    "index = 0\n",
    "for num in list(range(5,15)):\n",
    "    print(f\"Update: {num} index update: {index}\")\n",
    "    index = index + 1"
   ]
  },
  {
   "cell_type": "code",
   "execution_count": 8,
   "id": "0b7f85e0",
   "metadata": {},
   "outputs": [
    {
     "name": "stdout",
     "output_type": "stream",
     "text": [
      "(0, 5)\n",
      "(1, 6)\n",
      "(2, 7)\n",
      "(3, 8)\n",
      "(4, 9)\n",
      "(5, 10)\n",
      "(6, 11)\n",
      "(7, 12)\n",
      "(8, 13)\n",
      "(9, 14)\n"
     ]
    }
   ],
   "source": [
    "for e in enumerate(list(range(5,15))):\n",
    "    print(e)"
   ]
  },
  {
   "cell_type": "code",
   "execution_count": 9,
   "id": "0bce1c25",
   "metadata": {},
   "outputs": [
    {
     "name": "stdout",
     "output_type": "stream",
     "text": [
      "5\n",
      "6\n",
      "7\n",
      "8\n",
      "9\n",
      "10\n",
      "11\n",
      "12\n",
      "13\n",
      "14\n"
     ]
    }
   ],
   "source": [
    "for (index, num) in enumerate(list(range(5,15))):\n",
    "    print(num)"
   ]
  },
  {
   "cell_type": "markdown",
   "id": "12246ffa",
   "metadata": {},
   "source": [
    "## Random"
   ]
  },
  {
   "cell_type": "code",
   "execution_count": 10,
   "id": "209c3bfe",
   "metadata": {},
   "outputs": [],
   "source": [
    "## random is libary and randint is the value we brought\n",
    "from random import randint"
   ]
  },
  {
   "cell_type": "code",
   "execution_count": 11,
   "id": "8105b960",
   "metadata": {},
   "outputs": [
    {
     "data": {
      "text/plain": [
       "96"
      ]
     },
     "execution_count": 11,
     "metadata": {},
     "output_type": "execute_result"
    }
   ],
   "source": [
    "randint(0,100)"
   ]
  },
  {
   "cell_type": "code",
   "execution_count": 15,
   "id": "83afc04e",
   "metadata": {},
   "outputs": [
    {
     "name": "stdout",
     "output_type": "stream",
     "text": [
      "9\n"
     ]
    }
   ],
   "source": [
    "newList = list(range(0,10))\n",
    "print(newList[randint(0,9)])"
   ]
  },
  {
   "cell_type": "code",
   "execution_count": 17,
   "id": "306cda71",
   "metadata": {},
   "outputs": [],
   "source": [
    "from random import shuffle"
   ]
  },
  {
   "cell_type": "code",
   "execution_count": 18,
   "id": "a790fce4",
   "metadata": {},
   "outputs": [
    {
     "name": "stdout",
     "output_type": "stream",
     "text": [
      "[2, 8, 3, 5, 7, 0, 6, 9, 4, 1]\n"
     ]
    }
   ],
   "source": [
    "shuffle(newList)\n",
    "print(newList)"
   ]
  },
  {
   "cell_type": "markdown",
   "id": "5085c4c8",
   "metadata": {},
   "source": [
    "## Zip"
   ]
  },
  {
   "cell_type": "code",
   "execution_count": 2,
   "id": "69aedf08",
   "metadata": {},
   "outputs": [],
   "source": [
    "yemekList = ['muz', 'ananas', 'elma']\n",
    "calory = [100, 200, 300]\n",
    "dayList = ['mon', 'tue', 'wed']"
   ]
  },
  {
   "cell_type": "code",
   "execution_count": 3,
   "id": "eedba4c6",
   "metadata": {},
   "outputs": [],
   "source": [
    "zList = list(zip(yemekList, calory, dayList))"
   ]
  },
  {
   "cell_type": "code",
   "execution_count": 6,
   "id": "d56c7c4d",
   "metadata": {},
   "outputs": [
    {
     "name": "stdout",
     "output_type": "stream",
     "text": [
      "<class 'tuple'>\n",
      "<class 'tuple'>\n",
      "<class 'tuple'>\n",
      "[('muz', 100, 'mon'), ('ananas', 200, 'tue'), ('elma', 300, 'wed')]\n"
     ]
    }
   ],
   "source": [
    "for n in zList:\n",
    "    print(type(n))\n",
    "print(zList)"
   ]
  },
  {
   "cell_type": "markdown",
   "id": "4ba4a1fd",
   "metadata": {},
   "source": [
    "## Advanced List"
   ]
  },
  {
   "cell_type": "code",
   "execution_count": 24,
   "id": "06dcf288",
   "metadata": {},
   "outputs": [
    {
     "name": "stdout",
     "output_type": "stream",
     "text": [
      "['o', 'n', 'u', 'r', ' ', 'e', 'r', 'b', 'e', 'y']\n"
     ]
    }
   ],
   "source": [
    "listeg = []\n",
    "myString = 'onur erbey'\n",
    "\n",
    "for h in myString:\n",
    "    listeg.append(h)\n",
    "print(listeg)"
   ]
  },
  {
   "cell_type": "code",
   "execution_count": 25,
   "id": "1b10c9c6",
   "metadata": {},
   "outputs": [
    {
     "name": "stdout",
     "output_type": "stream",
     "text": [
      "['o', 'n', 'u', 'r', ' ', 'e', 'r', 'b', 'e', 'y']\n"
     ]
    }
   ],
   "source": [
    "newString = 'onur erbey'\n",
    "newListeg = [y for y in newString]\n",
    "print(newListeg)"
   ]
  },
  {
   "cell_type": "code",
   "execution_count": 28,
   "id": "cdd49e55",
   "metadata": {},
   "outputs": [
    {
     "name": "stdout",
     "output_type": "stream",
     "text": [
      "[0, 1, 4, 9, 16, 25, 36, 49, 64, 81]\n"
     ]
    }
   ],
   "source": [
    "secondList = [num ** 2 for num in list(range(0,10))]\n",
    "print(secondList)"
   ]
  },
  {
   "cell_type": "code",
   "execution_count": null,
   "id": "79799997",
   "metadata": {},
   "outputs": [],
   "source": []
  }
 ],
 "metadata": {
  "kernelspec": {
   "display_name": "Python 3 (ipykernel)",
   "language": "python",
   "name": "python3"
  },
  "language_info": {
   "codemirror_mode": {
    "name": "ipython",
    "version": 3
   },
   "file_extension": ".py",
   "mimetype": "text/x-python",
   "name": "python",
   "nbconvert_exporter": "python",
   "pygments_lexer": "ipython3",
   "version": "3.9.7"
  }
 },
 "nbformat": 4,
 "nbformat_minor": 5
}
