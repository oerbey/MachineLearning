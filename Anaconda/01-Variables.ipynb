{
 "cells": [
  {
   "cell_type": "code",
   "execution_count": 1,
   "id": "70a831c6",
   "metadata": {},
   "outputs": [
    {
     "name": "stdout",
     "output_type": "stream",
     "text": [
      "Hello World!\n"
     ]
    }
   ],
   "source": [
    "print('Hello World!')"
   ]
  },
  {
   "cell_type": "code",
   "execution_count": 2,
   "id": "15c2be8e",
   "metadata": {},
   "outputs": [
    {
     "name": "stdout",
     "output_type": "stream",
     "text": [
      "1024\n"
     ]
    }
   ],
   "source": [
    "print(256 * 4)"
   ]
  },
  {
   "cell_type": "code",
   "execution_count": 5,
   "id": "c2c1d98a",
   "metadata": {},
   "outputs": [],
   "source": [
    "x = 10"
   ]
  },
  {
   "cell_type": "code",
   "execution_count": 3,
   "id": "8c82fdc8",
   "metadata": {},
   "outputs": [],
   "source": [
    "y = 4"
   ]
  },
  {
   "cell_type": "code",
   "execution_count": 6,
   "id": "1eacd838",
   "metadata": {},
   "outputs": [
    {
     "name": "stdout",
     "output_type": "stream",
     "text": [
      "40\n"
     ]
    }
   ],
   "source": [
    "print(x*y)"
   ]
  },
  {
   "cell_type": "code",
   "execution_count": 7,
   "id": "dcc2a273",
   "metadata": {},
   "outputs": [],
   "source": [
    "myX = 10\n",
    "myY = 20"
   ]
  },
  {
   "cell_type": "code",
   "execution_count": 8,
   "id": "22a83d88",
   "metadata": {},
   "outputs": [
    {
     "data": {
      "text/plain": [
       "30"
      ]
     },
     "execution_count": 8,
     "metadata": {},
     "output_type": "execute_result"
    }
   ],
   "source": [
    "myX + myY"
   ]
  },
  {
   "cell_type": "code",
   "execution_count": 9,
   "id": "b2b61f70",
   "metadata": {},
   "outputs": [
    {
     "data": {
      "text/plain": [
       "int"
      ]
     },
     "execution_count": 9,
     "metadata": {},
     "output_type": "execute_result"
    }
   ],
   "source": [
    "type(myX)"
   ]
  },
  {
   "cell_type": "markdown",
   "id": "34f23ff4",
   "metadata": {},
   "source": [
    "## Int = interger & Float"
   ]
  },
  {
   "cell_type": "code",
   "execution_count": 12,
   "id": "c97700ac",
   "metadata": {},
   "outputs": [],
   "source": [
    "sonuc = myX / myY"
   ]
  },
  {
   "cell_type": "code",
   "execution_count": 14,
   "id": "b8d5b761",
   "metadata": {},
   "outputs": [
    {
     "data": {
      "text/plain": [
       "float"
      ]
     },
     "execution_count": 14,
     "metadata": {},
     "output_type": "execute_result"
    }
   ],
   "source": [
    "type(sonuc) ##float = kesirli sayi"
   ]
  },
  {
   "cell_type": "code",
   "execution_count": 15,
   "id": "9bffb76b",
   "metadata": {},
   "outputs": [],
   "source": [
    "pi = 3.14"
   ]
  },
  {
   "cell_type": "code",
   "execution_count": 16,
   "id": "12aa372a",
   "metadata": {},
   "outputs": [],
   "source": [
    "a = 5"
   ]
  },
  {
   "cell_type": "code",
   "execution_count": 18,
   "id": "cd4424b7",
   "metadata": {},
   "outputs": [
    {
     "name": "stdout",
     "output_type": "stream",
     "text": [
      "8.14\n",
      "15.700000000000001\n",
      "1.592356687898089\n"
     ]
    }
   ],
   "source": [
    "print(a + pi)\n",
    "print(a * pi)\n",
    "print(a / pi)"
   ]
  },
  {
   "cell_type": "markdown",
   "id": "71f63e42",
   "metadata": {},
   "source": [
    "## Math"
   ]
  },
  {
   "cell_type": "code",
   "execution_count": 19,
   "id": "f94809c5",
   "metadata": {},
   "outputs": [],
   "source": [
    "x = 5\n",
    "y = 3"
   ]
  },
  {
   "cell_type": "code",
   "execution_count": 20,
   "id": "89d8e2f2",
   "metadata": {},
   "outputs": [
    {
     "data": {
      "text/plain": [
       "150"
      ]
     },
     "execution_count": 20,
     "metadata": {},
     "output_type": "execute_result"
    }
   ],
   "source": [
    "x * y * 10"
   ]
  },
  {
   "cell_type": "code",
   "execution_count": 21,
   "id": "b8ee7820",
   "metadata": {},
   "outputs": [
    {
     "data": {
      "text/plain": [
       "625"
      ]
     },
     "execution_count": 21,
     "metadata": {},
     "output_type": "execute_result"
    }
   ],
   "source": [
    "x * x * x * x"
   ]
  },
  {
   "cell_type": "code",
   "execution_count": 22,
   "id": "c92d5c4b",
   "metadata": {},
   "outputs": [
    {
     "data": {
      "text/plain": [
       "625"
      ]
     },
     "execution_count": 22,
     "metadata": {},
     "output_type": "execute_result"
    }
   ],
   "source": [
    "x ** 4"
   ]
  },
  {
   "cell_type": "code",
   "execution_count": 23,
   "id": "8abf2239",
   "metadata": {},
   "outputs": [
    {
     "name": "stdout",
     "output_type": "stream",
     "text": [
      "1\n",
      "0\n"
     ]
    }
   ],
   "source": [
    "# Remainder - kalanini bulmak\n",
    "print(11 % 2)\n",
    "print(10 % 2)"
   ]
  },
  {
   "cell_type": "code",
   "execution_count": 24,
   "id": "97d97fb7",
   "metadata": {},
   "outputs": [],
   "source": [
    "userAge = 10"
   ]
  },
  {
   "cell_type": "code",
   "execution_count": 26,
   "id": "ae98f392",
   "metadata": {},
   "outputs": [
    {
     "name": "stdout",
     "output_type": "stream",
     "text": [
      "Enter Your Age: 40\n"
     ]
    }
   ],
   "source": [
    "userAge = input(\"Enter Your Age: \")"
   ]
  },
  {
   "cell_type": "code",
   "execution_count": 27,
   "id": "a7e26e41",
   "metadata": {},
   "outputs": [
    {
     "data": {
      "text/plain": [
       "str"
      ]
     },
     "execution_count": 27,
     "metadata": {},
     "output_type": "execute_result"
    }
   ],
   "source": [
    "type(userAge)"
   ]
  },
  {
   "cell_type": "markdown",
   "id": "31d0897d",
   "metadata": {},
   "source": [
    "## String"
   ]
  },
  {
   "cell_type": "code",
   "execution_count": 28,
   "id": "3cb1d31b",
   "metadata": {},
   "outputs": [],
   "source": [
    "myIntInput = int(userAge)"
   ]
  },
  {
   "cell_type": "code",
   "execution_count": 30,
   "id": "7c0fb442",
   "metadata": {},
   "outputs": [
    {
     "data": {
      "text/plain": [
       "0.2"
      ]
     },
     "execution_count": 30,
     "metadata": {},
     "output_type": "execute_result"
    }
   ],
   "source": [
    "myIntInput / (myX * myY)"
   ]
  },
  {
   "cell_type": "code",
   "execution_count": 31,
   "id": "6cf3839a",
   "metadata": {},
   "outputs": [],
   "source": [
    "k = \"Erbey\""
   ]
  },
  {
   "cell_type": "code",
   "execution_count": 32,
   "id": "f90c7d14",
   "metadata": {},
   "outputs": [
    {
     "data": {
      "text/plain": [
       "5"
      ]
     },
     "execution_count": 32,
     "metadata": {},
     "output_type": "execute_result"
    }
   ],
   "source": [
    "len(k)"
   ]
  },
  {
   "cell_type": "code",
   "execution_count": 33,
   "id": "622ee66f",
   "metadata": {},
   "outputs": [
    {
     "name": "stdout",
     "output_type": "stream",
     "text": [
      "Hello \n",
      "World\n"
     ]
    }
   ],
   "source": [
    "print(\"Hello \\nWorld\")"
   ]
  },
  {
   "cell_type": "markdown",
   "id": "51d29cff",
   "metadata": {},
   "source": [
    "## Index"
   ]
  },
  {
   "cell_type": "code",
   "execution_count": 5,
   "id": "32b4d96c",
   "metadata": {},
   "outputs": [
    {
     "name": "stdout",
     "output_type": "stream",
     "text": [
      "b\n",
      "O\n",
      "y\n",
      "r Erbey\n",
      "Onu\n",
      "r Erb\n"
     ]
    }
   ],
   "source": [
    "fullName = 'Onur Erbey'\n",
    "print(fullName[7])\n",
    "print(fullName[0])\n",
    "print(fullName[-1])\n",
    "print(fullName[3:])\n",
    "print(fullName[:3])\n",
    "print(fullName[3:8])"
   ]
  },
  {
   "cell_type": "markdown",
   "id": "a10f7fe2",
   "metadata": {},
   "source": [
    "## Slicing"
   ]
  },
  {
   "cell_type": "code",
   "execution_count": 6,
   "id": "ac122935",
   "metadata": {},
   "outputs": [
    {
     "data": {
      "text/plain": [
       "'65'"
      ]
     },
     "execution_count": 6,
     "metadata": {},
     "output_type": "execute_result"
    }
   ],
   "source": [
    "incomeData = \"Ahmet'in Yasi 65\"\n",
    "incomeData[-2:]"
   ]
  },
  {
   "cell_type": "code",
   "execution_count": 12,
   "id": "d91049fc",
   "metadata": {},
   "outputs": [
    {
     "data": {
      "text/plain": [
       "'Yi'"
      ]
     },
     "execution_count": 12,
     "metadata": {},
     "output_type": "execute_result"
    }
   ],
   "source": [
    "## Step size\n",
    "incomeData[9:-3:3]"
   ]
  },
  {
   "cell_type": "code",
   "execution_count": 14,
   "id": "8b893863",
   "metadata": {},
   "outputs": [],
   "source": [
    "fullName = fullName.capitalize()"
   ]
  },
  {
   "cell_type": "code",
   "execution_count": 15,
   "id": "66f78698",
   "metadata": {},
   "outputs": [
    {
     "data": {
      "text/plain": [
       "'Onur erbey'"
      ]
     },
     "execution_count": 15,
     "metadata": {},
     "output_type": "execute_result"
    }
   ],
   "source": [
    "fullName"
   ]
  },
  {
   "cell_type": "code",
   "execution_count": 21,
   "id": "b233382d",
   "metadata": {},
   "outputs": [
    {
     "name": "stdout",
     "output_type": "stream",
     "text": [
      "['Onur', 'erbey']\n"
     ]
    },
    {
     "data": {
      "text/plain": [
       "str"
      ]
     },
     "execution_count": 21,
     "metadata": {},
     "output_type": "execute_result"
    }
   ],
   "source": [
    "test = fullName.split()\n",
    "print(test)\n",
    "type(fullName)"
   ]
  },
  {
   "cell_type": "code",
   "execution_count": 22,
   "id": "150988fc",
   "metadata": {},
   "outputs": [
    {
     "data": {
      "text/plain": [
       "'ONUR ERBEY'"
      ]
     },
     "execution_count": 22,
     "metadata": {},
     "output_type": "execute_result"
    }
   ],
   "source": [
    "fullName.upper()"
   ]
  },
  {
   "cell_type": "code",
   "execution_count": null,
   "id": "f0a44b96",
   "metadata": {},
   "outputs": [],
   "source": []
  }
 ],
 "metadata": {
  "kernelspec": {
   "display_name": "Python 3 (ipykernel)",
   "language": "python",
   "name": "python3"
  },
  "language_info": {
   "codemirror_mode": {
    "name": "ipython",
    "version": 3
   },
   "file_extension": ".py",
   "mimetype": "text/x-python",
   "name": "python",
   "nbconvert_exporter": "python",
   "pygments_lexer": "ipython3",
   "version": "3.9.7"
  }
 },
 "nbformat": 4,
 "nbformat_minor": 5
}
