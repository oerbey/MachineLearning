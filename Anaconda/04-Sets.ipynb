{
 "cells": [
  {
   "cell_type": "code",
   "execution_count": 1,
   "id": "236fd1af",
   "metadata": {},
   "outputs": [],
   "source": [
    "myList = [1,2,3,1,2,3]"
   ]
  },
  {
   "cell_type": "code",
   "execution_count": 2,
   "id": "7e99687e",
   "metadata": {},
   "outputs": [
    {
     "name": "stdout",
     "output_type": "stream",
     "text": [
      "[1, 2, 3, 1, 2, 3]\n"
     ]
    }
   ],
   "source": [
    "print(myList)"
   ]
  },
  {
   "cell_type": "code",
   "execution_count": 3,
   "id": "7d077805",
   "metadata": {},
   "outputs": [],
   "source": [
    "myListSet = set(myList)"
   ]
  },
  {
   "cell_type": "code",
   "execution_count": 4,
   "id": "f4f05785",
   "metadata": {},
   "outputs": [
    {
     "name": "stdout",
     "output_type": "stream",
     "text": [
      "{1, 2, 3}\n"
     ]
    }
   ],
   "source": [
    "print(myListSet)"
   ]
  },
  {
   "cell_type": "code",
   "execution_count": 5,
   "id": "dd71566d",
   "metadata": {},
   "outputs": [
    {
     "data": {
      "text/plain": [
       "set"
      ]
     },
     "execution_count": 5,
     "metadata": {},
     "output_type": "execute_result"
    }
   ],
   "source": [
    "type(myListSet)"
   ]
  },
  {
   "cell_type": "code",
   "execution_count": 9,
   "id": "5e0353dc",
   "metadata": {},
   "outputs": [],
   "source": [
    "mySet = {'a','b','c','a'}"
   ]
  },
  {
   "cell_type": "code",
   "execution_count": 10,
   "id": "092e47cb",
   "metadata": {},
   "outputs": [
    {
     "name": "stdout",
     "output_type": "stream",
     "text": [
      "{'a', 'c', 'b'}\n"
     ]
    }
   ],
   "source": [
    "print(mySet)"
   ]
  },
  {
   "cell_type": "code",
   "execution_count": 18,
   "id": "f8403838",
   "metadata": {},
   "outputs": [
    {
     "name": "stdout",
     "output_type": "stream",
     "text": [
      "[]\n"
     ]
    }
   ],
   "source": [
    "## Define empty list\n",
    "emptyList = []\n",
    "print(emptyList)"
   ]
  },
  {
   "cell_type": "code",
   "execution_count": 22,
   "id": "fba081be",
   "metadata": {},
   "outputs": [],
   "source": [
    "## Add a value to list\n",
    "emptyList.append(1)"
   ]
  },
  {
   "cell_type": "code",
   "execution_count": 21,
   "id": "6a9a1455",
   "metadata": {},
   "outputs": [
    {
     "name": "stdout",
     "output_type": "stream",
     "text": [
      "[1]\n"
     ]
    }
   ],
   "source": [
    "print(emptyList)"
   ]
  },
  {
   "cell_type": "code",
   "execution_count": 17,
   "id": "d5e08964",
   "metadata": {},
   "outputs": [],
   "source": [
    "## Define Empty Set\n",
    "myEmptySet = set()"
   ]
  },
  {
   "cell_type": "code",
   "execution_count": 16,
   "id": "d2c27a44",
   "metadata": {},
   "outputs": [
    {
     "data": {
      "text/plain": [
       "set"
      ]
     },
     "execution_count": 16,
     "metadata": {},
     "output_type": "execute_result"
    }
   ],
   "source": [
    "type(myEmptySet)"
   ]
  },
  {
   "cell_type": "code",
   "execution_count": 23,
   "id": "a3fc94bb",
   "metadata": {},
   "outputs": [],
   "source": [
    "## Add a new field to the set\n",
    "myEmptySet.add(10)\n",
    "myEmptySet.add(20)"
   ]
  },
  {
   "cell_type": "code",
   "execution_count": 24,
   "id": "2d90dd38",
   "metadata": {},
   "outputs": [
    {
     "data": {
      "text/plain": [
       "{10, 20}"
      ]
     },
     "execution_count": 24,
     "metadata": {},
     "output_type": "execute_result"
    }
   ],
   "source": [
    "myEmptySet"
   ]
  },
  {
   "cell_type": "code",
   "execution_count": null,
   "id": "a8ee5f58",
   "metadata": {},
   "outputs": [],
   "source": []
  }
 ],
 "metadata": {
  "kernelspec": {
   "display_name": "Python 3 (ipykernel)",
   "language": "python",
   "name": "python3"
  },
  "language_info": {
   "codemirror_mode": {
    "name": "ipython",
    "version": 3
   },
   "file_extension": ".py",
   "mimetype": "text/x-python",
   "name": "python",
   "nbconvert_exporter": "python",
   "pygments_lexer": "ipython3",
   "version": "3.9.7"
  }
 },
 "nbformat": 4,
 "nbformat_minor": 5
}
