{
 "cells": [
  {
   "cell_type": "code",
   "execution_count": 1,
   "id": "4806104b",
   "metadata": {},
   "outputs": [],
   "source": [
    "myList = [1,2,'a',4.5]"
   ]
  },
  {
   "cell_type": "code",
   "execution_count": 6,
   "id": "61b1cc97",
   "metadata": {},
   "outputs": [],
   "source": [
    "myTuple = (1,2,'a',4.5)"
   ]
  },
  {
   "cell_type": "code",
   "execution_count": 7,
   "id": "d3091fb1",
   "metadata": {},
   "outputs": [
    {
     "data": {
      "text/plain": [
       "1"
      ]
     },
     "execution_count": 7,
     "metadata": {},
     "output_type": "execute_result"
    }
   ],
   "source": [
    "myTuple[0]"
   ]
  },
  {
   "cell_type": "code",
   "execution_count": 8,
   "id": "cc371b07",
   "metadata": {},
   "outputs": [
    {
     "data": {
      "text/plain": [
       "tuple"
      ]
     },
     "execution_count": 8,
     "metadata": {},
     "output_type": "execute_result"
    }
   ],
   "source": [
    "type(myTuple)"
   ]
  },
  {
   "cell_type": "code",
   "execution_count": 10,
   "id": "adb7f942",
   "metadata": {},
   "outputs": [],
   "source": [
    "## Tuple cannot be changed\n",
    "#myTuple[2] = 'B'"
   ]
  },
  {
   "cell_type": "code",
   "execution_count": 12,
   "id": "d19d45e4",
   "metadata": {},
   "outputs": [
    {
     "data": {
      "text/plain": [
       "1"
      ]
     },
     "execution_count": 12,
     "metadata": {},
     "output_type": "execute_result"
    }
   ],
   "source": [
    "myTuple.count('a')"
   ]
  },
  {
   "cell_type": "code",
   "execution_count": 13,
   "id": "4053d1c1",
   "metadata": {},
   "outputs": [
    {
     "data": {
      "text/plain": [
       "3"
      ]
     },
     "execution_count": 13,
     "metadata": {},
     "output_type": "execute_result"
    }
   ],
   "source": [
    "myTuple.index(4.5)"
   ]
  },
  {
   "cell_type": "code",
   "execution_count": null,
   "id": "82ce7713",
   "metadata": {},
   "outputs": [],
   "source": []
  }
 ],
 "metadata": {
  "kernelspec": {
   "display_name": "Python 3 (ipykernel)",
   "language": "python",
   "name": "python3"
  },
  "language_info": {
   "codemirror_mode": {
    "name": "ipython",
    "version": 3
   },
   "file_extension": ".py",
   "mimetype": "text/x-python",
   "name": "python",
   "nbconvert_exporter": "python",
   "pygments_lexer": "ipython3",
   "version": "3.9.7"
  }
 },
 "nbformat": 4,
 "nbformat_minor": 5
}
