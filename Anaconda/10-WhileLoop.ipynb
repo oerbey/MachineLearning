{
 "cells": [
  {
   "cell_type": "code",
   "execution_count": 3,
   "id": "018b7872",
   "metadata": {},
   "outputs": [
    {
     "name": "stdout",
     "output_type": "stream",
     "text": [
      "0\n",
      "1\n",
      "2\n",
      "3\n",
      "4\n",
      "5\n",
      "6\n",
      "7\n",
      "8\n",
      "9\n",
      "10\n"
     ]
    }
   ],
   "source": [
    "x = 0\n",
    "while x <= 10:\n",
    "    print(x)\n",
    "    x = x + 1"
   ]
  },
  {
   "cell_type": "code",
   "execution_count": 4,
   "id": "465dcf1d",
   "metadata": {},
   "outputs": [],
   "source": [
    "myList = [1,2,3,4,5,6,7]"
   ]
  },
  {
   "cell_type": "code",
   "execution_count": 5,
   "id": "42abe9ee",
   "metadata": {},
   "outputs": [
    {
     "data": {
      "text/plain": [
       "7"
      ]
     },
     "execution_count": 5,
     "metadata": {},
     "output_type": "execute_result"
    }
   ],
   "source": [
    "## sondaki elemani sil\n",
    "myList.pop()"
   ]
  },
  {
   "cell_type": "code",
   "execution_count": 6,
   "id": "092b3a0a",
   "metadata": {},
   "outputs": [],
   "source": [
    "##yeni eleman ekle\n",
    "myList.append(7)"
   ]
  },
  {
   "cell_type": "code",
   "execution_count": 7,
   "id": "0bb41997",
   "metadata": {},
   "outputs": [
    {
     "name": "stdout",
     "output_type": "stream",
     "text": [
      "It's in the list\n",
      "It's in the list\n",
      "It's in the list\n",
      "It's in the list\n",
      "It's in the list\n"
     ]
    }
   ],
   "source": [
    "while 3 in myList:\n",
    "    print(\"It's in the list\")\n",
    "    myList.pop()"
   ]
  },
  {
   "cell_type": "code",
   "execution_count": 8,
   "id": "b36a334a",
   "metadata": {},
   "outputs": [
    {
     "name": "stdout",
     "output_type": "stream",
     "text": [
      "0\n",
      "1\n",
      "2\n",
      "3\n"
     ]
    }
   ],
   "source": [
    "num = 0\n",
    "while num < 5:\n",
    "    if num == 4:\n",
    "        break\n",
    "    print(num)\n",
    "    num = num + 1"
   ]
  },
  {
   "cell_type": "code",
   "execution_count": 12,
   "id": "fec04eae",
   "metadata": {},
   "outputs": [
    {
     "name": "stdout",
     "output_type": "stream",
     "text": [
      "Update version: 0\n",
      "Update version: 1\n",
      "Update version: 2\n",
      "Update version: 3\n",
      "Update version: 4\n",
      "Update version: 5\n",
      "Update version: 6\n",
      "Update version: 7\n",
      "Update version: 8\n",
      "Update version: 9\n",
      "Update version: 10\n",
      "Update version: 11\n",
      "Update version: 12\n",
      "Update version: 13\n",
      "Update version: 14\n"
     ]
    }
   ],
   "source": [
    "n = 0 \n",
    "while n < 15:\n",
    "    #print(\"Update version: \" + str(n))\n",
    "    print(f\"Update version: {n}\")\n",
    "    n = n + 1"
   ]
  },
  {
   "cell_type": "code",
   "execution_count": null,
   "id": "53aa797d",
   "metadata": {},
   "outputs": [],
   "source": []
  }
 ],
 "metadata": {
  "kernelspec": {
   "display_name": "Python 3 (ipykernel)",
   "language": "python",
   "name": "python3"
  },
  "language_info": {
   "codemirror_mode": {
    "name": "ipython",
    "version": 3
   },
   "file_extension": ".py",
   "mimetype": "text/x-python",
   "name": "python",
   "nbconvert_exporter": "python",
   "pygments_lexer": "ipython3",
   "version": "3.9.7"
  }
 },
 "nbformat": 4,
 "nbformat_minor": 5
}
