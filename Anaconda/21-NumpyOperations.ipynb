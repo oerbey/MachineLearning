{
 "cells": [
  {
   "cell_type": "code",
   "execution_count": 1,
   "id": "d18097c0",
   "metadata": {},
   "outputs": [],
   "source": [
    "import numpy as np"
   ]
  },
  {
   "cell_type": "code",
   "execution_count": 2,
   "id": "a128688a",
   "metadata": {},
   "outputs": [],
   "source": [
    "mySer = np.arange(0,15)"
   ]
  },
  {
   "cell_type": "code",
   "execution_count": 3,
   "id": "8a71c4c1",
   "metadata": {},
   "outputs": [
    {
     "data": {
      "text/plain": [
       "5"
      ]
     },
     "execution_count": 3,
     "metadata": {},
     "output_type": "execute_result"
    }
   ],
   "source": [
    "mySer[5]"
   ]
  },
  {
   "cell_type": "code",
   "execution_count": 4,
   "id": "3bd8b41f",
   "metadata": {},
   "outputs": [
    {
     "data": {
      "text/plain": [
       "array([3, 4])"
      ]
     },
     "execution_count": 4,
     "metadata": {},
     "output_type": "execute_result"
    }
   ],
   "source": [
    "mySer[3:5]"
   ]
  },
  {
   "cell_type": "code",
   "execution_count": 5,
   "id": "708c28fd",
   "metadata": {},
   "outputs": [],
   "source": [
    "mySer[3:8] = -5 ## Adds -5 between third and 8th index"
   ]
  },
  {
   "cell_type": "code",
   "execution_count": 6,
   "id": "67af04ad",
   "metadata": {},
   "outputs": [
    {
     "data": {
      "text/plain": [
       "array([ 0,  1,  2, -5, -5, -5, -5, -5,  8,  9, 10, 11, 12, 13, 14])"
      ]
     },
     "execution_count": 6,
     "metadata": {},
     "output_type": "execute_result"
    }
   ],
   "source": [
    "mySer"
   ]
  },
  {
   "cell_type": "code",
   "execution_count": 9,
   "id": "1c925c8d",
   "metadata": {},
   "outputs": [],
   "source": [
    "otSer = np.arange(0,24)"
   ]
  },
  {
   "cell_type": "code",
   "execution_count": 10,
   "id": "3575d1cf",
   "metadata": {},
   "outputs": [
    {
     "data": {
      "text/plain": [
       "array([ 0,  1,  2,  3,  4,  5,  6,  7,  8,  9, 10, 11, 12, 13, 14, 15, 16,\n",
       "       17, 18, 19, 20, 21, 22, 23])"
      ]
     },
     "execution_count": 10,
     "metadata": {},
     "output_type": "execute_result"
    }
   ],
   "source": [
    "otSer"
   ]
  },
  {
   "cell_type": "code",
   "execution_count": 11,
   "id": "a2f21c53",
   "metadata": {},
   "outputs": [],
   "source": [
    "slicingSer = otSer[4:9]"
   ]
  },
  {
   "cell_type": "code",
   "execution_count": 12,
   "id": "b811ab60",
   "metadata": {},
   "outputs": [
    {
     "data": {
      "text/plain": [
       "array([4, 5, 6, 7, 8])"
      ]
     },
     "execution_count": 12,
     "metadata": {},
     "output_type": "execute_result"
    }
   ],
   "source": [
    "slicingSer"
   ]
  },
  {
   "cell_type": "code",
   "execution_count": 14,
   "id": "2c515cf3",
   "metadata": {},
   "outputs": [],
   "source": [
    "slicingSer[:] = 700"
   ]
  },
  {
   "cell_type": "code",
   "execution_count": 15,
   "id": "f9b9543b",
   "metadata": {},
   "outputs": [
    {
     "data": {
      "text/plain": [
       "array([700, 700, 700, 700, 700])"
      ]
     },
     "execution_count": 15,
     "metadata": {},
     "output_type": "execute_result"
    }
   ],
   "source": [
    "slicingSer"
   ]
  },
  {
   "cell_type": "code",
   "execution_count": 16,
   "id": "7edb8ef7",
   "metadata": {},
   "outputs": [
    {
     "data": {
      "text/plain": [
       "array([  0,   1,   2,   3, 700, 700, 700, 700, 700,   9,  10,  11,  12,\n",
       "        13,  14,  15,  16,  17,  18,  19,  20,  21,  22,  23])"
      ]
     },
     "execution_count": 16,
     "metadata": {},
     "output_type": "execute_result"
    }
   ],
   "source": [
    "otSer"
   ]
  },
  {
   "cell_type": "code",
   "execution_count": 22,
   "id": "20765ea7",
   "metadata": {},
   "outputs": [],
   "source": [
    "## Without changing original\n",
    "serEg = np.arange(0,24)"
   ]
  },
  {
   "cell_type": "code",
   "execution_count": 23,
   "id": "ca9662e0",
   "metadata": {},
   "outputs": [],
   "source": [
    "serEgCop = serEg.copy()"
   ]
  },
  {
   "cell_type": "code",
   "execution_count": 24,
   "id": "62d0e03f",
   "metadata": {},
   "outputs": [],
   "source": [
    "serEgSlicing = serEgCop[3:6]"
   ]
  },
  {
   "cell_type": "code",
   "execution_count": 25,
   "id": "48a38986",
   "metadata": {},
   "outputs": [],
   "source": [
    "serEgSlicing[:] = 800"
   ]
  },
  {
   "cell_type": "code",
   "execution_count": 27,
   "id": "cdc01c5c",
   "metadata": {},
   "outputs": [
    {
     "name": "stdout",
     "output_type": "stream",
     "text": [
      "[800 800 800]\n",
      "[  0   1   2 800 800 800   6   7   8   9  10  11  12  13  14  15  16  17\n",
      "  18  19  20  21  22  23]\n",
      "[ 0  1  2  3  4  5  6  7  8  9 10 11 12 13 14 15 16 17 18 19 20 21 22 23]\n"
     ]
    }
   ],
   "source": [
    "print(serEgSlicing)\n",
    "print(serEgCop)\n",
    "print(serEg)"
   ]
  },
  {
   "cell_type": "markdown",
   "id": "f45b7090",
   "metadata": {},
   "source": [
    "## Matrix"
   ]
  },
  {
   "cell_type": "code",
   "execution_count": 29,
   "id": "88dd70db",
   "metadata": {},
   "outputs": [],
   "source": [
    "myList = [[10,20,30],[20,30,40],[40,50,60]]"
   ]
  },
  {
   "cell_type": "code",
   "execution_count": 30,
   "id": "27cfb8fb",
   "metadata": {},
   "outputs": [],
   "source": [
    "myMatrixSer = np.array(myList)"
   ]
  },
  {
   "cell_type": "code",
   "execution_count": 31,
   "id": "c083880f",
   "metadata": {},
   "outputs": [
    {
     "name": "stdout",
     "output_type": "stream",
     "text": [
      "[[10 20 30]\n",
      " [20 30 40]\n",
      " [40 50 60]]\n"
     ]
    }
   ],
   "source": [
    "print(myMatrixSer)"
   ]
  },
  {
   "cell_type": "code",
   "execution_count": 33,
   "id": "773d3ea9",
   "metadata": {},
   "outputs": [
    {
     "data": {
      "text/plain": [
       "30"
      ]
     },
     "execution_count": 33,
     "metadata": {},
     "output_type": "execute_result"
    }
   ],
   "source": [
    "myMatrixSer[0][2]"
   ]
  },
  {
   "cell_type": "code",
   "execution_count": 34,
   "id": "b88d5049",
   "metadata": {},
   "outputs": [
    {
     "data": {
      "text/plain": [
       "30"
      ]
     },
     "execution_count": 34,
     "metadata": {},
     "output_type": "execute_result"
    }
   ],
   "source": [
    "myMatrixSer[0,2]"
   ]
  },
  {
   "cell_type": "code",
   "execution_count": 36,
   "id": "fe73ee6e",
   "metadata": {},
   "outputs": [
    {
     "data": {
      "text/plain": [
       "array([30, 40, 60])"
      ]
     },
     "execution_count": 36,
     "metadata": {},
     "output_type": "execute_result"
    }
   ],
   "source": [
    "myMatrixSer[0:,2]"
   ]
  },
  {
   "cell_type": "code",
   "execution_count": 38,
   "id": "ea9f7c14",
   "metadata": {},
   "outputs": [],
   "source": [
    "newList = [[0,1,2,3,4],[5,6,7,8,9],[10,11,12,13,14],[15,16,17,18,19],[20,21,22,23,24]]"
   ]
  },
  {
   "cell_type": "code",
   "execution_count": 39,
   "id": "423aa190",
   "metadata": {},
   "outputs": [],
   "source": [
    "newMatrix = np.array(newList)"
   ]
  },
  {
   "cell_type": "code",
   "execution_count": 40,
   "id": "695116fc",
   "metadata": {},
   "outputs": [
    {
     "name": "stdout",
     "output_type": "stream",
     "text": [
      "[[ 0  1  2  3  4]\n",
      " [ 5  6  7  8  9]\n",
      " [10 11 12 13 14]\n",
      " [15 16 17 18 19]\n",
      " [20 21 22 23 24]]\n"
     ]
    }
   ],
   "source": [
    "print(newMatrix)"
   ]
  },
  {
   "cell_type": "code",
   "execution_count": 41,
   "id": "89afbcca",
   "metadata": {},
   "outputs": [
    {
     "data": {
      "text/plain": [
       "array([[ 0,  1,  2,  3,  4],\n",
       "       [10, 11, 12, 13, 14],\n",
       "       [20, 21, 22, 23, 24]])"
      ]
     },
     "execution_count": 41,
     "metadata": {},
     "output_type": "execute_result"
    }
   ],
   "source": [
    "newMatrix[[0,2,4]]"
   ]
  },
  {
   "cell_type": "markdown",
   "id": "4be5666b",
   "metadata": {},
   "source": [
    "## Operations"
   ]
  },
  {
   "cell_type": "code",
   "execution_count": 44,
   "id": "ea780bc7",
   "metadata": {},
   "outputs": [],
   "source": [
    "newSer = np.random.randint(1,1000,25)"
   ]
  },
  {
   "cell_type": "code",
   "execution_count": 45,
   "id": "0b4b9c6a",
   "metadata": {},
   "outputs": [
    {
     "data": {
      "text/plain": [
       "array([440, 163, 380, 819, 451, 632, 826, 481, 274, 205, 169, 943, 176,\n",
       "       717,  49, 583, 404, 215, 511, 127, 121, 729, 124, 351, 274])"
      ]
     },
     "execution_count": 45,
     "metadata": {},
     "output_type": "execute_result"
    }
   ],
   "source": [
    "newSer"
   ]
  },
  {
   "cell_type": "code",
   "execution_count": 46,
   "id": "e309fffc",
   "metadata": {},
   "outputs": [
    {
     "data": {
      "text/plain": [
       "array([False, False, False,  True, False,  True,  True, False, False,\n",
       "       False, False,  True, False,  True, False,  True, False, False,\n",
       "        True, False, False,  True, False, False, False])"
      ]
     },
     "execution_count": 46,
     "metadata": {},
     "output_type": "execute_result"
    }
   ],
   "source": [
    "newSer > 500"
   ]
  },
  {
   "cell_type": "code",
   "execution_count": 47,
   "id": "2649f48b",
   "metadata": {},
   "outputs": [],
   "source": [
    "resSer = newSer > 500"
   ]
  },
  {
   "cell_type": "code",
   "execution_count": 54,
   "id": "a1e08d72",
   "metadata": {},
   "outputs": [
    {
     "data": {
      "text/plain": [
       "array([819, 632, 826, 943, 717, 583, 511, 729])"
      ]
     },
     "execution_count": 54,
     "metadata": {},
     "output_type": "execute_result"
    }
   ],
   "source": [
    "newSer[resSer]"
   ]
  },
  {
   "cell_type": "code",
   "execution_count": 55,
   "id": "3104af3b",
   "metadata": {},
   "outputs": [],
   "source": [
    "finalSer = np.arange(0,24)"
   ]
  },
  {
   "cell_type": "code",
   "execution_count": 57,
   "id": "c8dac0f2",
   "metadata": {},
   "outputs": [
    {
     "data": {
      "text/plain": [
       "array([  0,   1,   4,   9,  16,  25,  36,  49,  64,  81, 100, 121, 144,\n",
       "       169, 196, 225, 256, 289, 324, 361, 400, 441, 484, 529])"
      ]
     },
     "execution_count": 57,
     "metadata": {},
     "output_type": "execute_result"
    }
   ],
   "source": [
    "finalSer * finalSer"
   ]
  },
  {
   "cell_type": "code",
   "execution_count": 58,
   "id": "3d92f893",
   "metadata": {},
   "outputs": [
    {
     "data": {
      "text/plain": [
       "array([0.        , 1.        , 1.41421356, 1.73205081, 2.        ,\n",
       "       2.23606798, 2.44948974, 2.64575131, 2.82842712, 3.        ,\n",
       "       3.16227766, 3.31662479, 3.46410162, 3.60555128, 3.74165739,\n",
       "       3.87298335, 4.        , 4.12310563, 4.24264069, 4.35889894,\n",
       "       4.47213595, 4.58257569, 4.69041576, 4.79583152])"
      ]
     },
     "execution_count": 58,
     "metadata": {},
     "output_type": "execute_result"
    }
   ],
   "source": [
    "np.sqrt(finalSer)"
   ]
  },
  {
   "cell_type": "code",
   "execution_count": null,
   "id": "87d6db8d",
   "metadata": {},
   "outputs": [],
   "source": []
  }
 ],
 "metadata": {
  "kernelspec": {
   "display_name": "Python 3 (ipykernel)",
   "language": "python",
   "name": "python3"
  },
  "language_info": {
   "codemirror_mode": {
    "name": "ipython",
    "version": 3
   },
   "file_extension": ".py",
   "mimetype": "text/x-python",
   "name": "python",
   "nbconvert_exporter": "python",
   "pygments_lexer": "ipython3",
   "version": "3.9.7"
  }
 },
 "nbformat": 4,
 "nbformat_minor": 5
}
