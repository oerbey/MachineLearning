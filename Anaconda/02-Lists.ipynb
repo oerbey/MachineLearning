{
 "cells": [
  {
   "cell_type": "code",
   "execution_count": 1,
   "id": "b39e2861",
   "metadata": {},
   "outputs": [],
   "source": [
    "myString = \"Onur Erbey\""
   ]
  },
  {
   "cell_type": "code",
   "execution_count": 2,
   "id": "3d6e1909",
   "metadata": {},
   "outputs": [
    {
     "data": {
      "text/plain": [
       "'O'"
      ]
     },
     "execution_count": 2,
     "metadata": {},
     "output_type": "execute_result"
    }
   ],
   "source": [
    "myString[0]"
   ]
  },
  {
   "cell_type": "markdown",
   "id": "ee6bb2eb",
   "metadata": {},
   "source": [
    "## immutability & mutable"
   ]
  },
  {
   "cell_type": "code",
   "execution_count": 4,
   "id": "f3bee791",
   "metadata": {},
   "outputs": [],
   "source": [
    "# myString[0] = \"B\""
   ]
  },
  {
   "cell_type": "code",
   "execution_count": 3,
   "id": "1ed737cb",
   "metadata": {},
   "outputs": [],
   "source": [
    "myList = [10,20,30,40]"
   ]
  },
  {
   "cell_type": "code",
   "execution_count": 4,
   "id": "1ee2ade1",
   "metadata": {},
   "outputs": [
    {
     "data": {
      "text/plain": [
       "list"
      ]
     },
     "execution_count": 4,
     "metadata": {},
     "output_type": "execute_result"
    }
   ],
   "source": [
    "type(myList)"
   ]
  },
  {
   "cell_type": "code",
   "execution_count": 5,
   "id": "3bc6781c",
   "metadata": {},
   "outputs": [
    {
     "name": "stdout",
     "output_type": "stream",
     "text": [
      "[10, 20, 30, 40]\n"
     ]
    }
   ],
   "source": [
    "print(myList)"
   ]
  },
  {
   "cell_type": "code",
   "execution_count": 6,
   "id": "fb57bda0",
   "metadata": {},
   "outputs": [],
   "source": [
    "myNum = 10\n",
    "my2Num = 20"
   ]
  },
  {
   "cell_type": "code",
   "execution_count": 7,
   "id": "494c626a",
   "metadata": {},
   "outputs": [],
   "source": [
    "myNumList = [myNum,my2Num]"
   ]
  },
  {
   "cell_type": "code",
   "execution_count": 8,
   "id": "dc6f82b5",
   "metadata": {},
   "outputs": [
    {
     "data": {
      "text/plain": [
       "10"
      ]
     },
     "execution_count": 8,
     "metadata": {},
     "output_type": "execute_result"
    }
   ],
   "source": [
    "myNumList[0]"
   ]
  },
  {
   "cell_type": "code",
   "execution_count": 9,
   "id": "3351a4a3",
   "metadata": {},
   "outputs": [],
   "source": [
    "myList.append(50)"
   ]
  },
  {
   "cell_type": "code",
   "execution_count": 10,
   "id": "08f41a45",
   "metadata": {},
   "outputs": [
    {
     "data": {
      "text/plain": [
       "[10, 20, 30, 40, 50]"
      ]
     },
     "execution_count": 10,
     "metadata": {},
     "output_type": "execute_result"
    }
   ],
   "source": [
    "myList"
   ]
  },
  {
   "cell_type": "code",
   "execution_count": 11,
   "id": "f44bc9bb",
   "metadata": {},
   "outputs": [
    {
     "data": {
      "text/plain": [
       "50"
      ]
     },
     "execution_count": 11,
     "metadata": {},
     "output_type": "execute_result"
    }
   ],
   "source": [
    "myList.pop()"
   ]
  },
  {
   "cell_type": "code",
   "execution_count": 12,
   "id": "6758572a",
   "metadata": {},
   "outputs": [
    {
     "data": {
      "text/plain": [
       "[10, 20, 30, 40]"
      ]
     },
     "execution_count": 12,
     "metadata": {},
     "output_type": "execute_result"
    }
   ],
   "source": [
    "myList"
   ]
  },
  {
   "cell_type": "code",
   "execution_count": 17,
   "id": "6e05b4fb",
   "metadata": {},
   "outputs": [],
   "source": [
    "myList.reverse()"
   ]
  },
  {
   "cell_type": "code",
   "execution_count": 18,
   "id": "9764e08f",
   "metadata": {},
   "outputs": [
    {
     "data": {
      "text/plain": [
       "[40, 30, 20, 10]"
      ]
     },
     "execution_count": 18,
     "metadata": {},
     "output_type": "execute_result"
    }
   ],
   "source": [
    "myList"
   ]
  },
  {
   "cell_type": "code",
   "execution_count": 21,
   "id": "655d9105",
   "metadata": {},
   "outputs": [],
   "source": [
    "myList.remove(30)"
   ]
  },
  {
   "cell_type": "code",
   "execution_count": 28,
   "id": "2647e60e",
   "metadata": {},
   "outputs": [
    {
     "data": {
      "text/plain": [
       "2"
      ]
     },
     "execution_count": 28,
     "metadata": {},
     "output_type": "execute_result"
    }
   ],
   "source": [
    "myList.count(50)"
   ]
  },
  {
   "cell_type": "code",
   "execution_count": 29,
   "id": "088faaed",
   "metadata": {},
   "outputs": [],
   "source": [
    "mixList = [1,2,3.5,'Onur',10]"
   ]
  },
  {
   "cell_type": "code",
   "execution_count": 30,
   "id": "108d496a",
   "metadata": {},
   "outputs": [
    {
     "data": {
      "text/plain": [
       "list"
      ]
     },
     "execution_count": 30,
     "metadata": {},
     "output_type": "execute_result"
    }
   ],
   "source": [
    "type(mixList)"
   ]
  },
  {
   "cell_type": "code",
   "execution_count": 32,
   "id": "2bc5fcab",
   "metadata": {},
   "outputs": [
    {
     "data": {
      "text/plain": [
       "'Onur'"
      ]
     },
     "execution_count": 32,
     "metadata": {},
     "output_type": "execute_result"
    }
   ],
   "source": [
    "mixList[3]"
   ]
  },
  {
   "cell_type": "code",
   "execution_count": 33,
   "id": "032fe910",
   "metadata": {},
   "outputs": [],
   "source": [
    "nestedList = [1,5,'Onur',4,[6,'Z'],mixList]"
   ]
  },
  {
   "cell_type": "code",
   "execution_count": 34,
   "id": "22380797",
   "metadata": {},
   "outputs": [
    {
     "name": "stdout",
     "output_type": "stream",
     "text": [
      "[1, 5, 'Onur', 4, [6, 'Z'], [1, 2, 3.5, 'Onur', 10]]\n"
     ]
    }
   ],
   "source": [
    "print(nestedList)"
   ]
  },
  {
   "cell_type": "code",
   "execution_count": 37,
   "id": "3c9875bc",
   "metadata": {},
   "outputs": [
    {
     "name": "stdout",
     "output_type": "stream",
     "text": [
      "Z\n"
     ]
    }
   ],
   "source": [
    "z = nestedList[4][1]\n",
    "print(z)"
   ]
  },
  {
   "cell_type": "code",
   "execution_count": 16,
   "id": "829fc460",
   "metadata": {},
   "outputs": [
    {
     "name": "stdout",
     "output_type": "stream",
     "text": [
      "<built-in method reverse of list object at 0x7fb0bcec37c0>\n"
     ]
    }
   ],
   "source": [
    "print(myList.reverse)"
   ]
  },
  {
   "cell_type": "code",
   "execution_count": null,
   "id": "2041b62c",
   "metadata": {},
   "outputs": [],
   "source": []
  }
 ],
 "metadata": {
  "kernelspec": {
   "display_name": "Python 3 (ipykernel)",
   "language": "python",
   "name": "python3"
  },
  "language_info": {
   "codemirror_mode": {
    "name": "ipython",
    "version": 3
   },
   "file_extension": ".py",
   "mimetype": "text/x-python",
   "name": "python",
   "nbconvert_exporter": "python",
   "pygments_lexer": "ipython3",
   "version": "3.9.7"
  }
 },
 "nbformat": 4,
 "nbformat_minor": 5
}
