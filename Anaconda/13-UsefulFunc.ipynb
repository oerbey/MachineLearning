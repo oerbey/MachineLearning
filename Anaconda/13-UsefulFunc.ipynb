{
 "cells": [
  {
   "cell_type": "code",
   "execution_count": 1,
   "id": "69cb9183",
   "metadata": {},
   "outputs": [],
   "source": [
    "def divide(num):\n",
    "    return num / 2"
   ]
  },
  {
   "cell_type": "code",
   "execution_count": 2,
   "id": "424982d4",
   "metadata": {},
   "outputs": [
    {
     "data": {
      "text/plain": [
       "10.0"
      ]
     },
     "execution_count": 2,
     "metadata": {},
     "output_type": "execute_result"
    }
   ],
   "source": [
    "divide(20)"
   ]
  },
  {
   "cell_type": "code",
   "execution_count": 3,
   "id": "d01c2885",
   "metadata": {},
   "outputs": [],
   "source": [
    "myList = list(range(11))"
   ]
  },
  {
   "cell_type": "code",
   "execution_count": 4,
   "id": "ab004f90",
   "metadata": {},
   "outputs": [
    {
     "name": "stdout",
     "output_type": "stream",
     "text": [
      "[0, 1, 2, 3, 4, 5, 6, 7, 8, 9, 10]\n"
     ]
    }
   ],
   "source": [
    "print(myList)"
   ]
  },
  {
   "cell_type": "code",
   "execution_count": 5,
   "id": "beae9c18",
   "metadata": {},
   "outputs": [],
   "source": [
    "newList = []\n",
    "for e in myList:\n",
    "    newList.append(divide(e))"
   ]
  },
  {
   "cell_type": "code",
   "execution_count": 6,
   "id": "c2de3148",
   "metadata": {},
   "outputs": [
    {
     "name": "stdout",
     "output_type": "stream",
     "text": [
      "[0.0, 0.5, 1.0, 1.5, 2.0, 2.5, 3.0, 3.5, 4.0, 4.5, 5.0]\n"
     ]
    }
   ],
   "source": [
    "print(newList)"
   ]
  },
  {
   "cell_type": "markdown",
   "id": "b64a1b6e",
   "metadata": {},
   "source": [
    "## Map"
   ]
  },
  {
   "cell_type": "code",
   "execution_count": 8,
   "id": "062d1603",
   "metadata": {},
   "outputs": [
    {
     "data": {
      "text/plain": [
       "[0.0, 0.5, 1.0, 1.5, 2.0, 2.5, 3.0, 3.5, 4.0, 4.5, 5.0]"
      ]
     },
     "execution_count": 8,
     "metadata": {},
     "output_type": "execute_result"
    }
   ],
   "source": [
    "list(map(divide,myList))"
   ]
  },
  {
   "cell_type": "code",
   "execution_count": 11,
   "id": "edae84f7",
   "metadata": {},
   "outputs": [],
   "source": [
    "def cont(string):\n",
    "    return \"o\" in string"
   ]
  },
  {
   "cell_type": "code",
   "execution_count": 12,
   "id": "cb543b35",
   "metadata": {},
   "outputs": [
    {
     "data": {
      "text/plain": [
       "False"
      ]
     },
     "execution_count": 12,
     "metadata": {},
     "output_type": "execute_result"
    }
   ],
   "source": [
    "\"o\" in \"Onur\""
   ]
  },
  {
   "cell_type": "code",
   "execution_count": 13,
   "id": "f80ce385",
   "metadata": {},
   "outputs": [
    {
     "data": {
      "text/plain": [
       "True"
      ]
     },
     "execution_count": 13,
     "metadata": {},
     "output_type": "execute_result"
    }
   ],
   "source": [
    "cont(\"onur\")"
   ]
  },
  {
   "cell_type": "code",
   "execution_count": 14,
   "id": "97a943c9",
   "metadata": {},
   "outputs": [],
   "source": [
    "stringList = [\"onur\", \"oya\", \"olga\", \"oksana\", \"katja\", \"katrina\", \"katerina\"]"
   ]
  },
  {
   "cell_type": "code",
   "execution_count": 16,
   "id": "46cdc2ac",
   "metadata": {},
   "outputs": [],
   "source": [
    "resultList = list(map(cont,stringList))"
   ]
  },
  {
   "cell_type": "code",
   "execution_count": 17,
   "id": "526a339f",
   "metadata": {},
   "outputs": [
    {
     "data": {
      "text/plain": [
       "3"
      ]
     },
     "execution_count": 17,
     "metadata": {},
     "output_type": "execute_result"
    }
   ],
   "source": [
    "resultList.count(False)"
   ]
  },
  {
   "cell_type": "markdown",
   "id": "d413c56e",
   "metadata": {},
   "source": [
    "## Filter"
   ]
  },
  {
   "cell_type": "code",
   "execution_count": 18,
   "id": "72199cc5",
   "metadata": {},
   "outputs": [
    {
     "data": {
      "text/plain": [
       "['onur', 'oya', 'olga', 'oksana']"
      ]
     },
     "execution_count": 18,
     "metadata": {},
     "output_type": "execute_result"
    }
   ],
   "source": [
    "list(filter(cont,stringList))"
   ]
  },
  {
   "cell_type": "markdown",
   "id": "271e5bde",
   "metadata": {},
   "source": [
    "## Lambda"
   ]
  },
  {
   "cell_type": "code",
   "execution_count": 19,
   "id": "456b7b5d",
   "metadata": {},
   "outputs": [],
   "source": [
    "mult = lambda nu : nu * 3"
   ]
  },
  {
   "cell_type": "code",
   "execution_count": 20,
   "id": "eaaa9c6f",
   "metadata": {},
   "outputs": [
    {
     "data": {
      "text/plain": [
       "30"
      ]
     },
     "execution_count": 20,
     "metadata": {},
     "output_type": "execute_result"
    }
   ],
   "source": [
    "mult(10)"
   ]
  },
  {
   "cell_type": "code",
   "execution_count": 21,
   "id": "3e203c94",
   "metadata": {},
   "outputs": [],
   "source": [
    "egList = [10,20,30]"
   ]
  },
  {
   "cell_type": "code",
   "execution_count": 23,
   "id": "e9d88d08",
   "metadata": {},
   "outputs": [
    {
     "data": {
      "text/plain": [
       "[40, 80, 120]"
      ]
     },
     "execution_count": 23,
     "metadata": {},
     "output_type": "execute_result"
    }
   ],
   "source": [
    "list(map(lambda n : n * 4, egList))"
   ]
  },
  {
   "cell_type": "code",
   "execution_count": null,
   "id": "f6a2924f",
   "metadata": {},
   "outputs": [],
   "source": []
  }
 ],
 "metadata": {
  "kernelspec": {
   "display_name": "Python 3 (ipykernel)",
   "language": "python",
   "name": "python3"
  },
  "language_info": {
   "codemirror_mode": {
    "name": "ipython",
    "version": 3
   },
   "file_extension": ".py",
   "mimetype": "text/x-python",
   "name": "python",
   "nbconvert_exporter": "python",
   "pygments_lexer": "ipython3",
   "version": "3.9.7"
  }
 },
 "nbformat": 4,
 "nbformat_minor": 5
}
