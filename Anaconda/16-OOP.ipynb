{
 "cells": [
  {
   "cell_type": "markdown",
   "id": "7448301e",
   "metadata": {},
   "source": [
    "## Instance & Attribute"
   ]
  },
  {
   "cell_type": "code",
   "execution_count": 33,
   "id": "494202f6",
   "metadata": {},
   "outputs": [],
   "source": [
    "class SuperHero():\n",
    "    \n",
    "    power = \"Invisible\"\n",
    "    \n",
    "    def __init__(self,nameInput,ageInput,jobInput): #init = initializer\n",
    "        print(\"call init\")\n",
    "        self.name = nameInput\n",
    "        self.age = ageInput\n",
    "        self.job = jobInput\n",
    "        \n",
    "    def egMethod(self):\n",
    "        print(f\"I'm a hero! and my job: {self.job}\")"
   ]
  },
  {
   "cell_type": "code",
   "execution_count": 34,
   "id": "f4846eec",
   "metadata": {},
   "outputs": [
    {
     "name": "stdout",
     "output_type": "stream",
     "text": [
      "call init\n"
     ]
    }
   ],
   "source": [
    "superman = SuperHero(\"Superman\", 30, \"Journalist\")"
   ]
  },
  {
   "cell_type": "code",
   "execution_count": 35,
   "id": "74c5ae41",
   "metadata": {},
   "outputs": [
    {
     "data": {
      "text/plain": [
       "30"
      ]
     },
     "execution_count": 35,
     "metadata": {},
     "output_type": "execute_result"
    }
   ],
   "source": [
    "superman.age"
   ]
  },
  {
   "cell_type": "code",
   "execution_count": 36,
   "id": "5d3e6e5b",
   "metadata": {},
   "outputs": [],
   "source": [
    "superman.name = \"Clark Kent\""
   ]
  },
  {
   "cell_type": "code",
   "execution_count": 37,
   "id": "93b091ae",
   "metadata": {},
   "outputs": [
    {
     "data": {
      "text/plain": [
       "'Clark Kent'"
      ]
     },
     "execution_count": 37,
     "metadata": {},
     "output_type": "execute_result"
    }
   ],
   "source": [
    "superman.name"
   ]
  },
  {
   "cell_type": "code",
   "execution_count": 38,
   "id": "2e92db52",
   "metadata": {},
   "outputs": [
    {
     "data": {
      "text/plain": [
       "'Invisible'"
      ]
     },
     "execution_count": 38,
     "metadata": {},
     "output_type": "execute_result"
    }
   ],
   "source": [
    "superman.power"
   ]
  },
  {
   "cell_type": "code",
   "execution_count": 39,
   "id": "ba266165",
   "metadata": {},
   "outputs": [],
   "source": [
    "superman.power = \"Fly\""
   ]
  },
  {
   "cell_type": "code",
   "execution_count": 40,
   "id": "8de424ab",
   "metadata": {},
   "outputs": [
    {
     "data": {
      "text/plain": [
       "'Fly'"
      ]
     },
     "execution_count": 40,
     "metadata": {},
     "output_type": "execute_result"
    }
   ],
   "source": [
    "superman.power"
   ]
  },
  {
   "cell_type": "code",
   "execution_count": 41,
   "id": "50559260",
   "metadata": {},
   "outputs": [
    {
     "name": "stdout",
     "output_type": "stream",
     "text": [
      "I'm a hero! and my job: Journalist\n"
     ]
    }
   ],
   "source": [
    "superman.egMethod()"
   ]
  },
  {
   "cell_type": "code",
   "execution_count": 84,
   "id": "874e3cde",
   "metadata": {},
   "outputs": [],
   "source": [
    "class Dog():\n",
    "    \n",
    "    ageHu = 7\n",
    "    \n",
    "    def __init__(self,age = 5): # default value\n",
    "        self.age = age\n",
    "        self.humanAge = age * self.ageHu"
   ]
  },
  {
   "cell_type": "code",
   "execution_count": 85,
   "id": "17509eb7",
   "metadata": {},
   "outputs": [],
   "source": [
    "myDog = Dog()"
   ]
  },
  {
   "cell_type": "code",
   "execution_count": 86,
   "id": "6de057e6",
   "metadata": {},
   "outputs": [
    {
     "data": {
      "text/plain": [
       "5"
      ]
     },
     "execution_count": 86,
     "metadata": {},
     "output_type": "execute_result"
    }
   ],
   "source": [
    "myDog.age"
   ]
  },
  {
   "cell_type": "code",
   "execution_count": 87,
   "id": "de5d7a89",
   "metadata": {},
   "outputs": [
    {
     "data": {
      "text/plain": [
       "35"
      ]
     },
     "execution_count": 87,
     "metadata": {},
     "output_type": "execute_result"
    }
   ],
   "source": [
    "myDog.humanAge"
   ]
  },
  {
   "cell_type": "markdown",
   "id": "de5cb5fe",
   "metadata": {},
   "source": [
    "## Inheritence"
   ]
  },
  {
   "cell_type": "code",
   "execution_count": 2,
   "id": "67807848",
   "metadata": {},
   "outputs": [],
   "source": [
    "class Animal():\n",
    "    def __init__(self):\n",
    "        print(\"call animal init\")\n",
    "        \n",
    "    def method1(self):\n",
    "        print(\"call method1\")\n",
    "    \n",
    "    def method2(self):\n",
    "        print(\"call method2\")"
   ]
  },
  {
   "cell_type": "code",
   "execution_count": 3,
   "id": "c06234ed",
   "metadata": {},
   "outputs": [
    {
     "name": "stdout",
     "output_type": "stream",
     "text": [
      "call animal init\n"
     ]
    }
   ],
   "source": [
    "myAnimal = Animal()"
   ]
  },
  {
   "cell_type": "code",
   "execution_count": 4,
   "id": "9505bbe3",
   "metadata": {},
   "outputs": [
    {
     "name": "stdout",
     "output_type": "stream",
     "text": [
      "call method1\n"
     ]
    }
   ],
   "source": [
    "myAnimal.method1()"
   ]
  },
  {
   "cell_type": "code",
   "execution_count": 14,
   "id": "6ea92143",
   "metadata": {},
   "outputs": [],
   "source": [
    "class Cat(Animal):\n",
    "    def __init__(self):\n",
    "        Animal.__init__(self)\n",
    "        print(\"cat class init called\")\n",
    "        \n",
    "    def miyav(self):\n",
    "        print(\"Meaw!\")\n",
    "    ##override    \n",
    "    def method1(self):\n",
    "        print(\"called method1 from cat class\")"
   ]
  },
  {
   "cell_type": "code",
   "execution_count": 15,
   "id": "f4e44da0",
   "metadata": {},
   "outputs": [
    {
     "name": "stdout",
     "output_type": "stream",
     "text": [
      "call animal init\n",
      "cat class init called\n"
     ]
    }
   ],
   "source": [
    "myCat = Cat()"
   ]
  },
  {
   "cell_type": "code",
   "execution_count": 16,
   "id": "b5d3c28e",
   "metadata": {},
   "outputs": [
    {
     "name": "stdout",
     "output_type": "stream",
     "text": [
      "called method1 from cat class\n"
     ]
    }
   ],
   "source": [
    "myCat.method1()"
   ]
  },
  {
   "cell_type": "code",
   "execution_count": 17,
   "id": "0891d3d3",
   "metadata": {},
   "outputs": [
    {
     "name": "stdout",
     "output_type": "stream",
     "text": [
      "Meaw!\n"
     ]
    }
   ],
   "source": [
    "myCat.miyav()"
   ]
  },
  {
   "cell_type": "code",
   "execution_count": 19,
   "id": "ebd5b1fe",
   "metadata": {},
   "outputs": [
    {
     "name": "stdout",
     "output_type": "stream",
     "text": [
      "called method1 from cat class\n"
     ]
    }
   ],
   "source": [
    "myCat.method1()"
   ]
  },
  {
   "cell_type": "code",
   "execution_count": 20,
   "id": "c27422c0",
   "metadata": {},
   "outputs": [
    {
     "name": "stdout",
     "output_type": "stream",
     "text": [
      "call animal init\n"
     ]
    }
   ],
   "source": [
    "anotherAnimal = Animal()"
   ]
  },
  {
   "cell_type": "code",
   "execution_count": 22,
   "id": "e9342728",
   "metadata": {},
   "outputs": [
    {
     "name": "stdout",
     "output_type": "stream",
     "text": [
      "call method1\n"
     ]
    }
   ],
   "source": [
    "anotherAnimal.method1()"
   ]
  },
  {
   "cell_type": "markdown",
   "id": "d59c39cc",
   "metadata": {},
   "source": [
    "## Polymorphism "
   ]
  },
  {
   "cell_type": "code",
   "execution_count": 23,
   "id": "f7e6ee52",
   "metadata": {},
   "outputs": [],
   "source": [
    "class Apple():\n",
    "    def __init__(self,name):\n",
    "        self.name = name\n",
    "        \n",
    "    def giveInfo(self):\n",
    "        return self.name + \" 100 calory\""
   ]
  },
  {
   "cell_type": "code",
   "execution_count": 24,
   "id": "b4de4c75",
   "metadata": {},
   "outputs": [],
   "source": [
    "class Banana():\n",
    "    def __init__(self,name):\n",
    "        self.name = name\n",
    "        \n",
    "    def giveInfo(self):\n",
    "        return self.name + \" 150 calory\""
   ]
  },
  {
   "cell_type": "code",
   "execution_count": 26,
   "id": "33295c5e",
   "metadata": {},
   "outputs": [],
   "source": [
    "apple = Apple(\"apple\")"
   ]
  },
  {
   "cell_type": "code",
   "execution_count": 27,
   "id": "9964e34e",
   "metadata": {},
   "outputs": [
    {
     "data": {
      "text/plain": [
       "'apple 100 calory'"
      ]
     },
     "execution_count": 27,
     "metadata": {},
     "output_type": "execute_result"
    }
   ],
   "source": [
    "apple.giveInfo()"
   ]
  },
  {
   "cell_type": "code",
   "execution_count": 28,
   "id": "47b04c54",
   "metadata": {},
   "outputs": [],
   "source": [
    "banana = Banana(\"banana\")"
   ]
  },
  {
   "cell_type": "code",
   "execution_count": 29,
   "id": "3c54f394",
   "metadata": {},
   "outputs": [
    {
     "data": {
      "text/plain": [
       "'banana 150 calory'"
      ]
     },
     "execution_count": 29,
     "metadata": {},
     "output_type": "execute_result"
    }
   ],
   "source": [
    "banana.giveInfo()"
   ]
  },
  {
   "cell_type": "code",
   "execution_count": 30,
   "id": "5ab6bd79",
   "metadata": {},
   "outputs": [],
   "source": [
    "fruitList = [apple,banana]"
   ]
  },
  {
   "cell_type": "code",
   "execution_count": 31,
   "id": "0e1c36e4",
   "metadata": {},
   "outputs": [
    {
     "name": "stdout",
     "output_type": "stream",
     "text": [
      "apple 100 calory\n",
      "banana 150 calory\n"
     ]
    }
   ],
   "source": [
    "for fruit in fruitList:\n",
    "    print(fruit.giveInfo())"
   ]
  },
  {
   "cell_type": "code",
   "execution_count": 35,
   "id": "8b590160",
   "metadata": {},
   "outputs": [],
   "source": [
    "def getInfo(fruit):\n",
    "    print(fruit.giveInfo())"
   ]
  },
  {
   "cell_type": "code",
   "execution_count": 36,
   "id": "2e355947",
   "metadata": {},
   "outputs": [
    {
     "name": "stdout",
     "output_type": "stream",
     "text": [
      "apple 100 calory\n"
     ]
    }
   ],
   "source": [
    "getInfo(apple)"
   ]
  },
  {
   "cell_type": "code",
   "execution_count": null,
   "id": "1c0ccbf4",
   "metadata": {},
   "outputs": [],
   "source": []
  }
 ],
 "metadata": {
  "kernelspec": {
   "display_name": "Python 3 (ipykernel)",
   "language": "python",
   "name": "python3"
  },
  "language_info": {
   "codemirror_mode": {
    "name": "ipython",
    "version": 3
   },
   "file_extension": ".py",
   "mimetype": "text/x-python",
   "name": "python",
   "nbconvert_exporter": "python",
   "pygments_lexer": "ipython3",
   "version": "3.9.7"
  }
 },
 "nbformat": 4,
 "nbformat_minor": 5
}
