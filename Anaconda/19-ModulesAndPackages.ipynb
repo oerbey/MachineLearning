{
 "cells": [
  {
   "cell_type": "code",
   "execution_count": 4,
   "id": "a48f4a71",
   "metadata": {},
   "outputs": [],
   "source": [
    "import numpy as np\n",
    "import matplotlib.pyplot as matplot"
   ]
  },
  {
   "cell_type": "code",
   "execution_count": 5,
   "id": "dc5aefd8",
   "metadata": {},
   "outputs": [
    {
     "data": {
      "text/plain": [
       "4017.3083110183393"
      ]
     },
     "execution_count": 5,
     "metadata": {},
     "output_type": "execute_result"
    }
   ],
   "source": [
    "salaryList = np.random.normal(4000,500,1000)\n",
    "np.mean(salaryList)"
   ]
  },
  {
   "cell_type": "code",
   "execution_count": 6,
   "id": "1248b95b",
   "metadata": {},
   "outputs": [
    {
     "data": {
      "image/png": "[encoded data removed]",
      "text/plain": [
       "<Figure size 432x288 with 1 Axes>"
      ]
     },
     "metadata": {
      "needs_background": "light"
     },
     "output_type": "display_data"
    }
   ],
   "source": [
    "matplot.hist(salaryList,50)\n",
    "matplot.show()"
   ]
  },
  {
   "cell_type": "code",
   "execution_count": 7,
   "id": "f977df3a",
   "metadata": {},
   "outputs": [],
   "source": [
    "## Module single python files, packets are bigger versions of modules"
   ]
  },
  {
   "cell_type": "code",
   "execution_count": null,
   "id": "f59e7b11",
   "metadata": {},
   "outputs": [],
   "source": []
  }
 ],
 "metadata": {
  "kernelspec": {
   "display_name": "Python 3 (ipykernel)",
   "language": "python",
   "name": "python3"
  },
  "language_info": {
   "codemirror_mode": {
    "name": "ipython",
    "version": 3
   },
   "file_extension": ".py",
   "mimetype": "text/x-python",
   "name": "python",
   "nbconvert_exporter": "python",
   "pygments_lexer": "ipython3",
   "version": "3.9.7"
  }
 },
 "nbformat": 4,
 "nbformat_minor": 5
}
