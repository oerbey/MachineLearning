{
 "cells": [
  {
   "cell_type": "code",
   "execution_count": 19,
   "id": "005415f7",
   "metadata": {},
   "outputs": [],
   "source": [
    "class Fruits():\n",
    "    \n",
    "    def __init__(self,name,calorie):\n",
    "        self.name = name\n",
    "        self.calorie = calorie\n",
    "        \n",
    "    def __str__(self):\n",
    "        return f\"{self.name} has {self.calorie} calorie\"\n",
    "    \n",
    "    def __len__(self):\n",
    "        return self.calorie"
   ]
  },
  {
   "cell_type": "code",
   "execution_count": 20,
   "id": "ce099f05",
   "metadata": {},
   "outputs": [],
   "source": [
    "banana = Fruits(\"Banana\",150)"
   ]
  },
  {
   "cell_type": "code",
   "execution_count": 21,
   "id": "d7091fe4",
   "metadata": {},
   "outputs": [
    {
     "data": {
      "text/plain": [
       "150"
      ]
     },
     "execution_count": 21,
     "metadata": {},
     "output_type": "execute_result"
    }
   ],
   "source": [
    "banana.calorie"
   ]
  },
  {
   "cell_type": "code",
   "execution_count": 22,
   "id": "156dc3a9",
   "metadata": {},
   "outputs": [
    {
     "name": "stdout",
     "output_type": "stream",
     "text": [
      "Banana has 150 calorie\n"
     ]
    }
   ],
   "source": [
    "print(banana)"
   ]
  },
  {
   "cell_type": "code",
   "execution_count": 23,
   "id": "7d128f3c",
   "metadata": {},
   "outputs": [],
   "source": [
    "myList = [1,2,3,\"a\",4.5]"
   ]
  },
  {
   "cell_type": "code",
   "execution_count": 24,
   "id": "e60a3d16",
   "metadata": {},
   "outputs": [
    {
     "name": "stdout",
     "output_type": "stream",
     "text": [
      "[1, 2, 3, 'a', 4.5]\n"
     ]
    }
   ],
   "source": [
    "print(myList)"
   ]
  },
  {
   "cell_type": "code",
   "execution_count": 25,
   "id": "3ce86cad",
   "metadata": {},
   "outputs": [
    {
     "data": {
      "text/plain": [
       "150"
      ]
     },
     "execution_count": 25,
     "metadata": {},
     "output_type": "execute_result"
    }
   ],
   "source": [
    "len(banana)"
   ]
  },
  {
   "cell_type": "code",
   "execution_count": 26,
   "id": "8855e8c3",
   "metadata": {},
   "outputs": [],
   "source": [
    "apple = Fruits(\"Apple\", 200)"
   ]
  },
  {
   "cell_type": "code",
   "execution_count": 27,
   "id": "c8ae333c",
   "metadata": {},
   "outputs": [
    {
     "name": "stdout",
     "output_type": "stream",
     "text": [
      "Apple has 200 calorie\n",
      "200\n"
     ]
    }
   ],
   "source": [
    "print(apple)\n",
    "print(len(apple))"
   ]
  },
  {
   "cell_type": "code",
   "execution_count": 28,
   "id": "27f666a4",
   "metadata": {},
   "outputs": [],
   "source": [
    "## Search methods on the internet"
   ]
  },
  {
   "cell_type": "code",
   "execution_count": null,
   "id": "92fafbd1",
   "metadata": {},
   "outputs": [],
   "source": []
  }
 ],
 "metadata": {
  "kernelspec": {
   "display_name": "Python 3 (ipykernel)",
   "language": "python",
   "name": "python3"
  },
  "language_info": {
   "codemirror_mode": {
    "name": "ipython",
    "version": 3
   },
   "file_extension": ".py",
   "mimetype": "text/x-python",
   "name": "python",
   "nbconvert_exporter": "python",
   "pygments_lexer": "ipython3",
   "version": "3.9.7"
  }
 },
 "nbformat": 4,
 "nbformat_minor": 5
}
