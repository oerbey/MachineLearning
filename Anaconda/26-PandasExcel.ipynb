{
 "cells": [
  {
   "cell_type": "code",
   "execution_count": 1,
   "id": "328792da",
   "metadata": {},
   "outputs": [],
   "source": [
    "import pandas as pd\n",
    "import numpy as np"
   ]
  },
  {
   "cell_type": "code",
   "execution_count": 3,
   "id": "1022a28d",
   "metadata": {},
   "outputs": [],
   "source": [
    "dataFrame = pd.read_excel(\"pythonExcel.xlsx\")"
   ]
  },
  {
   "cell_type": "code",
   "execution_count": 4,
   "id": "b80d4cc8",
   "metadata": {},
   "outputs": [
    {
     "name": "stdout",
     "output_type": "stream",
     "text": [
      "  Unnamed: 0  Salary   Age  Departman\n",
      "0       Onur     300  29.0         IT\n",
      "1       Ipek     400  24.0      Sales\n",
      "2      Duygu     500  32.0  Marketing\n",
      "3     Mehmet     500  40.0        NaN\n",
      "4       Ayse     600   NaN    Finance\n",
      "5     Berfin     550   NaN        Law\n"
     ]
    }
   ],
   "source": [
    "print(dataFrame)"
   ]
  },
  {
   "cell_type": "code",
   "execution_count": 6,
   "id": "b9e4af69",
   "metadata": {},
   "outputs": [],
   "source": [
    "noNa = dataFrame.dropna() # drops NaN"
   ]
  },
  {
   "cell_type": "code",
   "execution_count": 8,
   "id": "c18e988f",
   "metadata": {},
   "outputs": [],
   "source": [
    "noNa.to_excel(\"NewSalary.xlsx\")"
   ]
  },
  {
   "cell_type": "code",
   "execution_count": null,
   "id": "87b81620",
   "metadata": {},
   "outputs": [],
   "source": [
    "## read_csv\n",
    "## to_csv"
   ]
  }
 ],
 "metadata": {
  "kernelspec": {
   "display_name": "Python 3 (ipykernel)",
   "language": "python",
   "name": "python3"
  },
  "language_info": {
   "codemirror_mode": {
    "name": "ipython",
    "version": 3
   },
   "file_extension": ".py",
   "mimetype": "text/x-python",
   "name": "python",
   "nbconvert_exporter": "python",
   "pygments_lexer": "ipython3",
   "version": "3.9.7"
  }
 },
 "nbformat": 4,
 "nbformat_minor": 5
}
