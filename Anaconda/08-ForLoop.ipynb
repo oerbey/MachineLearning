{
 "cells": [
  {
   "cell_type": "code",
   "execution_count": 1,
   "id": "902654e3",
   "metadata": {},
   "outputs": [],
   "source": [
    "myList = [10,20,30,40,50]"
   ]
  },
  {
   "cell_type": "code",
   "execution_count": 2,
   "id": "4b0896e1",
   "metadata": {},
   "outputs": [
    {
     "data": {
      "text/plain": [
       "16.666666666666668"
      ]
     },
     "execution_count": 2,
     "metadata": {},
     "output_type": "execute_result"
    }
   ],
   "source": [
    "myList[0] * 5 / 3"
   ]
  },
  {
   "cell_type": "code",
   "execution_count": 5,
   "id": "0fdda46b",
   "metadata": {},
   "outputs": [
    {
     "name": "stdout",
     "output_type": "stream",
     "text": [
      "Loop Started\n",
      "16.666666666666668\n",
      "33.333333333333336\n",
      "50.0\n",
      "66.66666666666667\n",
      "83.33333333333333\n",
      "Loop Ended\n"
     ]
    }
   ],
   "source": [
    "print('Loop Started')\n",
    "for num in myList:\n",
    "    print(num * 5 /3)\n",
    "print('Loop Ended')"
   ]
  },
  {
   "cell_type": "code",
   "execution_count": 6,
   "id": "c6a0542a",
   "metadata": {},
   "outputs": [
    {
     "name": "stdout",
     "output_type": "stream",
     "text": [
      "2\n",
      "4\n",
      "6\n"
     ]
    }
   ],
   "source": [
    "newList = [1,2,3,4,5,6]\n",
    "for n in newList:\n",
    "    if n % 2 == 0:\n",
    "        print(n)"
   ]
  },
  {
   "cell_type": "code",
   "execution_count": 7,
   "id": "f6e876ed",
   "metadata": {},
   "outputs": [
    {
     "name": "stdout",
     "output_type": "stream",
     "text": [
      "O\n",
      "n\n",
      "u\n",
      "r\n",
      " \n",
      "E\n",
      "r\n",
      "b\n",
      "e\n",
      "y\n"
     ]
    }
   ],
   "source": [
    "name = 'Onur Erbey'\n",
    "for nm in name:\n",
    "    print(nm)"
   ]
  },
  {
   "cell_type": "code",
   "execution_count": 8,
   "id": "b20045c9",
   "metadata": {},
   "outputs": [
    {
     "name": "stdout",
     "output_type": "stream",
     "text": [
      "2\n",
      "4\n",
      "6\n",
      "8\n",
      "10\n"
     ]
    }
   ],
   "source": [
    "myTurple = (1,2,3,4,5)\n",
    "for t in myTurple:\n",
    "    print(t * 2)"
   ]
  },
  {
   "cell_type": "code",
   "execution_count": 14,
   "id": "c9818323",
   "metadata": {},
   "outputs": [
    {
     "name": "stdout",
     "output_type": "stream",
     "text": [
      "19.2\n",
      "24.5\n",
      "56.2\n"
     ]
    }
   ],
   "source": [
    "coordinates = [(19.2, 20.4), (24.5, 32.1), (56.2, 46.0)]\n",
    "for c in coordinates:\n",
    "    print(c[0])"
   ]
  },
  {
   "cell_type": "code",
   "execution_count": 15,
   "id": "0a6bd039",
   "metadata": {},
   "outputs": [
    {
     "name": "stdout",
     "output_type": "stream",
     "text": [
      "19.2\n",
      "24.5\n",
      "56.2\n"
     ]
    }
   ],
   "source": [
    "for (x,y) in coordinates:\n",
    "    print(x)"
   ]
  },
  {
   "cell_type": "code",
   "execution_count": 16,
   "id": "52a7fde3",
   "metadata": {},
   "outputs": [
    {
     "data": {
      "text/plain": [
       "dict_items([('muz', 100), ('portakal', 130), ('elma', 200)])"
      ]
     },
     "execution_count": 16,
     "metadata": {},
     "output_type": "execute_result"
    }
   ],
   "source": [
    "myDict = {'muz': 100, 'portakal': 130, 'elma': 200}\n",
    "myDict.items()"
   ]
  },
  {
   "cell_type": "code",
   "execution_count": 17,
   "id": "1940b93e",
   "metadata": {},
   "outputs": [
    {
     "name": "stdout",
     "output_type": "stream",
     "text": [
      "100\n",
      "130\n",
      "200\n"
     ]
    }
   ],
   "source": [
    "for (key, value) in myDict.items():\n",
    "    print(value)"
   ]
  },
  {
   "cell_type": "code",
   "execution_count": null,
   "id": "b94159b9",
   "metadata": {},
   "outputs": [],
   "source": []
  }
 ],
 "metadata": {
  "kernelspec": {
   "display_name": "Python 3 (ipykernel)",
   "language": "python",
   "name": "python3"
  },
  "language_info": {
   "codemirror_mode": {
    "name": "ipython",
    "version": 3
   },
   "file_extension": ".py",
   "mimetype": "text/x-python",
   "name": "python",
   "nbconvert_exporter": "python",
   "pygments_lexer": "ipython3",
   "version": "3.9.7"
  }
 },
 "nbformat": 4,
 "nbformat_minor": 5
}
