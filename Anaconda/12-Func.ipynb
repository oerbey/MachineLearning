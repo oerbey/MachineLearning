{
 "cells": [
  {
   "cell_type": "code",
   "execution_count": 1,
   "id": "dcf5ada3",
   "metadata": {},
   "outputs": [],
   "source": [
    "myName = 'Onur Erbey'"
   ]
  },
  {
   "cell_type": "code",
   "execution_count": 2,
   "id": "f2ff91fe",
   "metadata": {},
   "outputs": [
    {
     "data": {
      "text/plain": [
       "'ONUR ERBEY'"
      ]
     },
     "execution_count": 2,
     "metadata": {},
     "output_type": "execute_result"
    }
   ],
   "source": [
    "myName.upper()"
   ]
  },
  {
   "cell_type": "code",
   "execution_count": 3,
   "id": "e7421327",
   "metadata": {},
   "outputs": [],
   "source": [
    "def firstFunc():\n",
    "    print('Hello World!')"
   ]
  },
  {
   "cell_type": "code",
   "execution_count": null,
   "id": "cd93d627",
   "metadata": {},
   "outputs": [],
   "source": [
    "firstFunc()"
   ]
  },
  {
   "cell_type": "code",
   "execution_count": null,
   "id": "58396590",
   "metadata": {},
   "outputs": [],
   "source": [
    "## Input & Return"
   ]
  },
  {
   "cell_type": "code",
   "execution_count": null,
   "id": "88239853",
   "metadata": {},
   "outputs": [],
   "source": [
    "def helloWorld(printName):\n",
    "    print('Hello' + ' ' + printName)\n",
    "    print(printName)\n",
    "helloWorld('World!')"
   ]
  },
  {
   "cell_type": "code",
   "execution_count": null,
   "id": "03875e21",
   "metadata": {},
   "outputs": [],
   "source": [
    "def hello():\n",
    "    n = input(\"Please enter a word: \")\n",
    "    print('Hello' + ' ' + n)"
   ]
  },
  {
   "cell_type": "code",
   "execution_count": null,
   "id": "f6670e51",
   "metadata": {},
   "outputs": [],
   "source": [
    "def toplama(n1, n2):\n",
    "    sumn = n1 + n2\n",
    "    print(sumn)"
   ]
  },
  {
   "cell_type": "code",
   "execution_count": null,
   "id": "78709dde",
   "metadata": {
    "collapsed": true
   },
   "outputs": [],
   "source": []
  },
  {
   "cell_type": "code",
   "execution_count": null,
   "id": "e1cad9cb",
   "metadata": {},
   "outputs": [],
   "source": [
    "toplama(19,20)"
   ]
  },
  {
   "cell_type": "code",
   "execution_count": 5,
   "id": "ea370535",
   "metadata": {},
   "outputs": [],
   "source": [
    "def supertop(num1, num2, num3):\n",
    "    print(num1+num2+num3)"
   ]
  },
  {
   "cell_type": "code",
   "execution_count": 8,
   "id": "3ecc16d7",
   "metadata": {},
   "outputs": [
    {
     "name": "stdout",
     "output_type": "stream",
     "text": [
      "60\n",
      "None\n"
     ]
    }
   ],
   "source": [
    "print(supertop(10,20,30))"
   ]
  },
  {
   "cell_type": "code",
   "execution_count": 7,
   "id": "0068032f",
   "metadata": {},
   "outputs": [
    {
     "name": "stdout",
     "output_type": "stream",
     "text": [
      "Hello World\n"
     ]
    }
   ],
   "source": [
    "print('Hello World')"
   ]
  },
  {
   "cell_type": "code",
   "execution_count": 9,
   "id": "e67d4b24",
   "metadata": {},
   "outputs": [],
   "source": [
    "## Döndürmeli Toplama\n",
    "def donTop(num4,num5):\n",
    "    return num4 * num5"
   ]
  },
  {
   "cell_type": "code",
   "execution_count": 10,
   "id": "b7a0972d",
   "metadata": {},
   "outputs": [
    {
     "data": {
      "text/plain": [
       "200"
      ]
     },
     "execution_count": 10,
     "metadata": {},
     "output_type": "execute_result"
    }
   ],
   "source": [
    "donTop(50,4)"
   ]
  },
  {
   "cell_type": "code",
   "execution_count": 11,
   "id": "ffb946ec",
   "metadata": {},
   "outputs": [],
   "source": [
    "def contFunc(s):\n",
    "    if s == 'onur':\n",
    "        print('Amazing man!')\n",
    "    else:\n",
    "        print('not important person')"
   ]
  },
  {
   "cell_type": "code",
   "execution_count": 12,
   "id": "3013fc33",
   "metadata": {},
   "outputs": [
    {
     "name": "stdout",
     "output_type": "stream",
     "text": [
      "Amazing man!\n"
     ]
    }
   ],
   "source": [
    "contFunc('onur')"
   ]
  },
  {
   "cell_type": "markdown",
   "id": "1e1a7126",
   "metadata": {},
   "source": [
    "## Args & kwargs"
   ]
  },
  {
   "cell_type": "code",
   "execution_count": 13,
   "id": "1d3e801b",
   "metadata": {},
   "outputs": [],
   "source": [
    "def newSum(*args):\n",
    "    return sum(args)"
   ]
  },
  {
   "cell_type": "code",
   "execution_count": 14,
   "id": "3ddf92de",
   "metadata": {},
   "outputs": [
    {
     "data": {
      "text/plain": [
       "210"
      ]
     },
     "execution_count": 14,
     "metadata": {},
     "output_type": "execute_result"
    }
   ],
   "source": [
    "newSum(10,20,30,40,50,60)"
   ]
  },
  {
   "cell_type": "code",
   "execution_count": 15,
   "id": "3ef382de",
   "metadata": {},
   "outputs": [
    {
     "data": {
      "text/plain": [
       "540"
      ]
     },
     "execution_count": 15,
     "metadata": {},
     "output_type": "execute_result"
    }
   ],
   "source": [
    "newSum(40,500)"
   ]
  },
  {
   "cell_type": "code",
   "execution_count": 20,
   "id": "40e06033",
   "metadata": {},
   "outputs": [],
   "source": [
    "def myFunc(*args):\n",
    "    return args"
   ]
  },
  {
   "cell_type": "code",
   "execution_count": 17,
   "id": "72a64fb0",
   "metadata": {},
   "outputs": [
    {
     "name": "stdout",
     "output_type": "stream",
     "text": [
      "(40, 30, 40)\n"
     ]
    }
   ],
   "source": [
    "myFunc(40,30,40)"
   ]
  },
  {
   "cell_type": "code",
   "execution_count": 21,
   "id": "204b292f",
   "metadata": {},
   "outputs": [
    {
     "data": {
      "text/plain": [
       "tuple"
      ]
     },
     "execution_count": 21,
     "metadata": {},
     "output_type": "execute_result"
    }
   ],
   "source": [
    "type(myFunc(20,30))"
   ]
  },
  {
   "cell_type": "code",
   "execution_count": 24,
   "id": "4952e63b",
   "metadata": {},
   "outputs": [],
   "source": [
    "def egFunc(**kwargs):\n",
    "    return(kwargs)"
   ]
  },
  {
   "cell_type": "code",
   "execution_count": 25,
   "id": "38009ba0",
   "metadata": {},
   "outputs": [
    {
     "data": {
      "text/plain": [
       "{'muz': 100, 'elma': 200, 'ananas': 300}"
      ]
     },
     "execution_count": 25,
     "metadata": {},
     "output_type": "execute_result"
    }
   ],
   "source": [
    "egFunc(muz = 100, elma = 200, ananas = 300)"
   ]
  },
  {
   "cell_type": "code",
   "execution_count": 27,
   "id": "5a2c13bd",
   "metadata": {},
   "outputs": [
    {
     "data": {
      "text/plain": [
       "function"
      ]
     },
     "execution_count": 27,
     "metadata": {},
     "output_type": "execute_result"
    }
   ],
   "source": [
    "type(egFunc)"
   ]
  },
  {
   "cell_type": "code",
   "execution_count": 32,
   "id": "c77a8430",
   "metadata": {},
   "outputs": [],
   "source": [
    "def keyWordControl(**kwargs):\n",
    "    if 'Onur' in kwargs:\n",
    "        print('Onur is amazing')\n",
    "    else:\n",
    "        print(\"Where's Onur?\")"
   ]
  },
  {
   "cell_type": "code",
   "execution_count": 34,
   "id": "bf802f47",
   "metadata": {},
   "outputs": [
    {
     "name": "stdout",
     "output_type": "stream",
     "text": [
      "Onur is amazing\n"
     ]
    }
   ],
   "source": [
    "keyWordControl(Onur = 100, Apple = 90, Gool = 0)"
   ]
  },
  {
   "cell_type": "code",
   "execution_count": null,
   "id": "101acdb2",
   "metadata": {},
   "outputs": [],
   "source": []
  }
 ],
 "metadata": {
  "kernelspec": {
   "display_name": "Python 3 (ipykernel)",
   "language": "python",
   "name": "python3"
  },
  "language_info": {
   "codemirror_mode": {
    "name": "ipython",
    "version": 3
   },
   "file_extension": ".py",
   "mimetype": "text/x-python",
   "name": "python",
   "nbconvert_exporter": "python",
   "pygments_lexer": "ipython3",
   "version": "3.9.7"
  }
 },
 "nbformat": 4,
 "nbformat_minor": 5
}
