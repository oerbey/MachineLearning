{
 "cells": [
  {
   "cell_type": "code",
   "execution_count": 1,
   "id": "9eb3b93b",
   "metadata": {},
   "outputs": [
    {
     "name": "stdout",
     "output_type": "stream",
     "text": [
      "Onur Erbey\n"
     ]
    }
   ],
   "source": [
    "if 3 > 1:\n",
    "    print('Onur Erbey')"
   ]
  },
  {
   "cell_type": "code",
   "execution_count": 10,
   "id": "6757d271",
   "metadata": {},
   "outputs": [
    {
     "name": "stdout",
     "output_type": "stream",
     "text": [
      "x = y\n"
     ]
    }
   ],
   "source": [
    "x = 4\n",
    "y = 4\n",
    "if x > y:\n",
    "    print('x > y')\n",
    "elif x != y:\n",
    "    print('x != y')\n",
    "else:\n",
    "    print('x = y')"
   ]
  },
  {
   "cell_type": "code",
   "execution_count": 11,
   "id": "58f11db8",
   "metadata": {},
   "outputs": [
    {
     "name": "stdout",
     "output_type": "stream",
     "text": [
      "Choose your hero: Iron Man\n"
     ]
    }
   ],
   "source": [
    "hero = input('Choose your hero: ')"
   ]
  },
  {
   "cell_type": "code",
   "execution_count": 12,
   "id": "440a42de",
   "metadata": {},
   "outputs": [
    {
     "name": "stdout",
     "output_type": "stream",
     "text": [
      "You choose Iran Man\n"
     ]
    }
   ],
   "source": [
    "if hero == 'Iron Man':\n",
    "    print('You choose Iran Man')\n",
    "elif hero == 'Superman':\n",
    "    print('Wrong choice')\n",
    "else:\n",
    "    print('Who is it?')"
   ]
  },
  {
   "cell_type": "code",
   "execution_count": 13,
   "id": "f6c08006",
   "metadata": {},
   "outputs": [
    {
     "name": "stdout",
     "output_type": "stream",
     "text": [
      "a < b < c\n"
     ]
    }
   ],
   "source": [
    "a = 10\n",
    "b = 20\n",
    "c = 30\n",
    "if a > b and b > c:\n",
    "    print('a > b > c')\n",
    "elif a < b and b < c:\n",
    "    print('a < b < c')"
   ]
  },
  {
   "cell_type": "code",
   "execution_count": 14,
   "id": "aeded0a8",
   "metadata": {},
   "outputs": [],
   "source": [
    "itAlive = True"
   ]
  },
  {
   "cell_type": "code",
   "execution_count": 15,
   "id": "7d31dc7b",
   "metadata": {},
   "outputs": [
    {
     "name": "stdout",
     "output_type": "stream",
     "text": [
      "It's alive!\n"
     ]
    }
   ],
   "source": [
    "if itAlive == True:\n",
    "    print(\"It's alive!\")\n",
    "else:\n",
    "    print(\"It's dead\")"
   ]
  },
  {
   "cell_type": "code",
   "execution_count": 16,
   "id": "5f57d5fe",
   "metadata": {},
   "outputs": [
    {
     "name": "stdout",
     "output_type": "stream",
     "text": [
      "It's alive!\n"
     ]
    }
   ],
   "source": [
    "if itAlive:\n",
    "    print(\"It's alive!\")\n",
    "else:\n",
    "    print(\"It's dead\")"
   ]
  },
  {
   "cell_type": "code",
   "execution_count": 17,
   "id": "dc2fdd0e",
   "metadata": {},
   "outputs": [
    {
     "name": "stdout",
     "output_type": "stream",
     "text": [
      "Yep!\n"
     ]
    }
   ],
   "source": [
    "myString = \"Onur Erbey\"\n",
    "if \"Onur\" in myString:\n",
    "    print(\"Yep!\")\n",
    "else:\n",
    "    print(\"nope\")"
   ]
  },
  {
   "cell_type": "code",
   "execution_count": 18,
   "id": "d5c36516",
   "metadata": {},
   "outputs": [
    {
     "name": "stdout",
     "output_type": "stream",
     "text": [
      "Hey!\n"
     ]
    }
   ],
   "source": [
    "myList = [10,20,30,40,50,60]\n",
    "if 20 in myList:\n",
    "    print(\"Hey!\")"
   ]
  },
  {
   "cell_type": "code",
   "execution_count": 19,
   "id": "99709bde",
   "metadata": {},
   "outputs": [
    {
     "data": {
      "text/plain": [
       "dict_keys(['Muz', 'Elma', 'Armut'])"
      ]
     },
     "execution_count": 19,
     "metadata": {},
     "output_type": "execute_result"
    }
   ],
   "source": [
    "myDictionary = {\"Muz\": 100, \"Elma\": 200, \"Armut\": 140}\n",
    "myDictionary.keys()"
   ]
  },
  {
   "cell_type": "code",
   "execution_count": 22,
   "id": "da464a3f",
   "metadata": {},
   "outputs": [
    {
     "name": "stdout",
     "output_type": "stream",
     "text": [
      "Yep!\n",
      "dict_values([100, 200, 140])\n"
     ]
    }
   ],
   "source": [
    "if \"Muz\" in myDictionary.keys():\n",
    "    print(\"Yep!\")\n",
    "print(myDictionary.values())"
   ]
  },
  {
   "cell_type": "code",
   "execution_count": null,
   "id": "47d92515",
   "metadata": {},
   "outputs": [],
   "source": []
  }
 ],
 "metadata": {
  "kernelspec": {
   "display_name": "Python 3 (ipykernel)",
   "language": "python",
   "name": "python3"
  },
  "language_info": {
   "codemirror_mode": {
    "name": "ipython",
    "version": 3
   },
   "file_extension": ".py",
   "mimetype": "text/x-python",
   "name": "python",
   "nbconvert_exporter": "python",
   "pygments_lexer": "ipython3",
   "version": "3.9.7"
  }
 },
 "nbformat": 4,
 "nbformat_minor": 5
}
