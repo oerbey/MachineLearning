{
 "cells": [
  {
   "cell_type": "markdown",
   "id": "08debfa1",
   "metadata": {},
   "source": [
    "# Key-value pairing"
   ]
  },
  {
   "cell_type": "code",
   "execution_count": 1,
   "id": "4821448f",
   "metadata": {},
   "outputs": [],
   "source": [
    "myLunch = ['Elma', 'Karpuz', 'Muz']"
   ]
  },
  {
   "cell_type": "code",
   "execution_count": 2,
   "id": "1d8f40b4",
   "metadata": {},
   "outputs": [],
   "source": [
    "myCalories = [100,200,300]"
   ]
  },
  {
   "cell_type": "code",
   "execution_count": 3,
   "id": "b7d32685",
   "metadata": {},
   "outputs": [],
   "source": [
    "myDictionary = {'key word' : 'value'}"
   ]
  },
  {
   "cell_type": "code",
   "execution_count": 5,
   "id": "bfca64a9",
   "metadata": {},
   "outputs": [],
   "source": [
    "myFoodDic = {'elma' : 100, 'karpuz' : 200, 'muz' : 300}"
   ]
  },
  {
   "cell_type": "code",
   "execution_count": 6,
   "id": "05e3e29d",
   "metadata": {},
   "outputs": [
    {
     "data": {
      "text/plain": [
       "100"
      ]
     },
     "execution_count": 6,
     "metadata": {},
     "output_type": "execute_result"
    }
   ],
   "source": [
    "myFoodDic['elma']"
   ]
  },
  {
   "cell_type": "code",
   "execution_count": 7,
   "id": "053a8d45",
   "metadata": {},
   "outputs": [],
   "source": [
    "myFoodDic['elma'] = 200"
   ]
  },
  {
   "cell_type": "code",
   "execution_count": 8,
   "id": "4ff9626a",
   "metadata": {},
   "outputs": [
    {
     "data": {
      "text/plain": [
       "{'elma': 200, 'karpuz': 200, 'muz': 300}"
      ]
     },
     "execution_count": 8,
     "metadata": {},
     "output_type": "execute_result"
    }
   ],
   "source": [
    "myFoodDic"
   ]
  },
  {
   "cell_type": "code",
   "execution_count": 10,
   "id": "6e051017",
   "metadata": {},
   "outputs": [],
   "source": [
    "newDictonary = {'key1':100,'key2':[10,20,30,40,4.5,'Onur'],'key3':{'key9':4}}"
   ]
  },
  {
   "cell_type": "code",
   "execution_count": 11,
   "id": "36590efc",
   "metadata": {},
   "outputs": [
    {
     "data": {
      "text/plain": [
       "dict_keys(['key1', 'key2', 'key3'])"
      ]
     },
     "execution_count": 11,
     "metadata": {},
     "output_type": "execute_result"
    }
   ],
   "source": [
    "newDictonary.keys()"
   ]
  },
  {
   "cell_type": "code",
   "execution_count": 12,
   "id": "59de3ba2",
   "metadata": {},
   "outputs": [
    {
     "data": {
      "text/plain": [
       "dict_values([100, [10, 20, 30, 40, 4.5, 'Onur'], {'key9': 4}])"
      ]
     },
     "execution_count": 12,
     "metadata": {},
     "output_type": "execute_result"
    }
   ],
   "source": [
    "newDictonary.values()"
   ]
  },
  {
   "cell_type": "code",
   "execution_count": 13,
   "id": "492fea33",
   "metadata": {},
   "outputs": [
    {
     "data": {
      "text/plain": [
       "'Onur'"
      ]
     },
     "execution_count": 13,
     "metadata": {},
     "output_type": "execute_result"
    }
   ],
   "source": [
    "newDictonary['key2'][-1]"
   ]
  },
  {
   "cell_type": "code",
   "execution_count": 14,
   "id": "2f97de24",
   "metadata": {},
   "outputs": [
    {
     "data": {
      "text/plain": [
       "4"
      ]
     },
     "execution_count": 14,
     "metadata": {},
     "output_type": "execute_result"
    }
   ],
   "source": [
    "newDictonary['key3']['key9']"
   ]
  },
  {
   "cell_type": "code",
   "execution_count": null,
   "id": "ad004bc4",
   "metadata": {},
   "outputs": [],
   "source": []
  }
 ],
 "metadata": {
  "kernelspec": {
   "display_name": "Python 3 (ipykernel)",
   "language": "python",
   "name": "python3"
  },
  "language_info": {
   "codemirror_mode": {
    "name": "ipython",
    "version": 3
   },
   "file_extension": ".py",
   "mimetype": "text/x-python",
   "name": "python",
   "nbconvert_exporter": "python",
   "pygments_lexer": "ipython3",
   "version": "3.9.7"
  }
 },
 "nbformat": 4,
 "nbformat_minor": 5
}
