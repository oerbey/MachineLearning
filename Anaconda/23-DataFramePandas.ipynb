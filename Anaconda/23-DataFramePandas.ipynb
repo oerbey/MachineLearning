{
 "cells": [
  {
   "cell_type": "code",
   "execution_count": 11,
   "id": "55e4c6db",
   "metadata": {},
   "outputs": [],
   "source": [
    "import pandas as pd\n",
    "import numpy as np"
   ]
  },
  {
   "cell_type": "code",
   "execution_count": 12,
   "id": "b651214d",
   "metadata": {},
   "outputs": [],
   "source": [
    "data = np.random.randn(4,3)"
   ]
  },
  {
   "cell_type": "code",
   "execution_count": 13,
   "id": "8bd7354c",
   "metadata": {},
   "outputs": [
    {
     "data": {
      "text/plain": [
       "array([[-0.55326964, -1.65157071, -1.67657434],\n",
       "       [-2.35540608,  1.66673069, -0.71074085],\n",
       "       [-1.09846277, -0.24501709, -0.35914622],\n",
       "       [ 2.16910746,  0.24624115, -0.57448712]])"
      ]
     },
     "execution_count": 13,
     "metadata": {},
     "output_type": "execute_result"
    }
   ],
   "source": [
    "data"
   ]
  },
  {
   "cell_type": "code",
   "execution_count": 14,
   "id": "84496ded",
   "metadata": {},
   "outputs": [],
   "source": [
    "dataFrame = pd.DataFrame(data)"
   ]
  },
  {
   "cell_type": "code",
   "execution_count": 15,
   "id": "35497247",
   "metadata": {},
   "outputs": [
    {
     "data": {
      "text/html": [
       "<div>\n",
       "<style scoped>\n",
       "    .dataframe tbody tr th:only-of-type {\n",
       "        vertical-align: middle;\n",
       "    }\n",
       "\n",
       "    .dataframe tbody tr th {\n",
       "        vertical-align: top;\n",
       "    }\n",
       "\n",
       "    .dataframe thead th {\n",
       "        text-align: right;\n",
       "    }\n",
       "</style>\n",
       "<table border=\"1\" class=\"dataframe\">\n",
       "  <thead>\n",
       "    <tr style=\"text-align: right;\">\n",
       "      <th></th>\n",
       "      <th>0</th>\n",
       "      <th>1</th>\n",
       "      <th>2</th>\n",
       "    </tr>\n",
       "  </thead>\n",
       "  <tbody>\n",
       "    <tr>\n",
       "      <th>0</th>\n",
       "      <td>-0.553270</td>\n",
       "      <td>-1.651571</td>\n",
       "      <td>-1.676574</td>\n",
       "    </tr>\n",
       "    <tr>\n",
       "      <th>1</th>\n",
       "      <td>-2.355406</td>\n",
       "      <td>1.666731</td>\n",
       "      <td>-0.710741</td>\n",
       "    </tr>\n",
       "    <tr>\n",
       "      <th>2</th>\n",
       "      <td>-1.098463</td>\n",
       "      <td>-0.245017</td>\n",
       "      <td>-0.359146</td>\n",
       "    </tr>\n",
       "    <tr>\n",
       "      <th>3</th>\n",
       "      <td>2.169107</td>\n",
       "      <td>0.246241</td>\n",
       "      <td>-0.574487</td>\n",
       "    </tr>\n",
       "  </tbody>\n",
       "</table>\n",
       "</div>"
      ],
      "text/plain": [
       "          0         1         2\n",
       "0 -0.553270 -1.651571 -1.676574\n",
       "1 -2.355406  1.666731 -0.710741\n",
       "2 -1.098463 -0.245017 -0.359146\n",
       "3  2.169107  0.246241 -0.574487"
      ]
     },
     "execution_count": 15,
     "metadata": {},
     "output_type": "execute_result"
    }
   ],
   "source": [
    "dataFrame"
   ]
  },
  {
   "cell_type": "code",
   "execution_count": 34,
   "id": "18c4d6e2",
   "metadata": {},
   "outputs": [],
   "source": [
    "newDataFrame = pd.DataFrame(data,index=[\"A\",\"B\",\"C\",\"D\"],columns = [\"Salary\",\"Age\",\"Working Hours\"])"
   ]
  },
  {
   "cell_type": "code",
   "execution_count": 35,
   "id": "1777564b",
   "metadata": {},
   "outputs": [
    {
     "data": {
      "text/html": [
       "<div>\n",
       "<style scoped>\n",
       "    .dataframe tbody tr th:only-of-type {\n",
       "        vertical-align: middle;\n",
       "    }\n",
       "\n",
       "    .dataframe tbody tr th {\n",
       "        vertical-align: top;\n",
       "    }\n",
       "\n",
       "    .dataframe thead th {\n",
       "        text-align: right;\n",
       "    }\n",
       "</style>\n",
       "<table border=\"1\" class=\"dataframe\">\n",
       "  <thead>\n",
       "    <tr style=\"text-align: right;\">\n",
       "      <th></th>\n",
       "      <th>Salary</th>\n",
       "      <th>Age</th>\n",
       "      <th>Working Hours</th>\n",
       "    </tr>\n",
       "  </thead>\n",
       "  <tbody>\n",
       "    <tr>\n",
       "      <th>A</th>\n",
       "      <td>-0.553270</td>\n",
       "      <td>-1.651571</td>\n",
       "      <td>-1.676574</td>\n",
       "    </tr>\n",
       "    <tr>\n",
       "      <th>B</th>\n",
       "      <td>-2.355406</td>\n",
       "      <td>1.666731</td>\n",
       "      <td>-0.710741</td>\n",
       "    </tr>\n",
       "    <tr>\n",
       "      <th>C</th>\n",
       "      <td>-1.098463</td>\n",
       "      <td>-0.245017</td>\n",
       "      <td>-0.359146</td>\n",
       "    </tr>\n",
       "    <tr>\n",
       "      <th>D</th>\n",
       "      <td>2.169107</td>\n",
       "      <td>0.246241</td>\n",
       "      <td>-0.574487</td>\n",
       "    </tr>\n",
       "  </tbody>\n",
       "</table>\n",
       "</div>"
      ],
      "text/plain": [
       "     Salary       Age  Working Hours\n",
       "A -0.553270 -1.651571      -1.676574\n",
       "B -2.355406  1.666731      -0.710741\n",
       "C -1.098463 -0.245017      -0.359146\n",
       "D  2.169107  0.246241      -0.574487"
      ]
     },
     "execution_count": 35,
     "metadata": {},
     "output_type": "execute_result"
    }
   ],
   "source": [
    "newDataFrame"
   ]
  },
  {
   "cell_type": "code",
   "execution_count": 38,
   "id": "ebf90483",
   "metadata": {},
   "outputs": [
    {
     "data": {
      "text/plain": [
       "A   -1.651571\n",
       "B    1.666731\n",
       "C   -0.245017\n",
       "D    0.246241\n",
       "Name: Age, dtype: float64"
      ]
     },
     "execution_count": 38,
     "metadata": {},
     "output_type": "execute_result"
    }
   ],
   "source": [
    "newDataFrame[\"Age\"]"
   ]
  },
  {
   "cell_type": "code",
   "execution_count": 43,
   "id": "a86ee100",
   "metadata": {},
   "outputs": [
    {
     "data": {
      "text/plain": [
       "A   -0.553270\n",
       "B   -2.355406\n",
       "C   -1.098463\n",
       "D    2.169107\n",
       "Name: Salary, dtype: float64"
      ]
     },
     "execution_count": 43,
     "metadata": {},
     "output_type": "execute_result"
    }
   ],
   "source": [
    "newDataFrame[\"Salary\"]"
   ]
  },
  {
   "cell_type": "code",
   "execution_count": 44,
   "id": "4a061ced",
   "metadata": {},
   "outputs": [
    {
     "data": {
      "text/plain": [
       "Salary          -0.553270\n",
       "Age             -1.651571\n",
       "Working Hours   -1.676574\n",
       "Name: A, dtype: float64"
      ]
     },
     "execution_count": 44,
     "metadata": {},
     "output_type": "execute_result"
    }
   ],
   "source": [
    "newDataFrame.loc[\"A\"]"
   ]
  },
  {
   "cell_type": "code",
   "execution_count": 45,
   "id": "2fcfaedb",
   "metadata": {},
   "outputs": [],
   "source": [
    "## Add new column applend will work and add a new column\n",
    "newDataFrame[\"Retirement\"] = newDataFrame[\"Age\"] + newDataFrame[\"Salary\"]"
   ]
  },
  {
   "cell_type": "code",
   "execution_count": 46,
   "id": "41ffab05",
   "metadata": {},
   "outputs": [
    {
     "data": {
      "text/html": [
       "<div>\n",
       "<style scoped>\n",
       "    .dataframe tbody tr th:only-of-type {\n",
       "        vertical-align: middle;\n",
       "    }\n",
       "\n",
       "    .dataframe tbody tr th {\n",
       "        vertical-align: top;\n",
       "    }\n",
       "\n",
       "    .dataframe thead th {\n",
       "        text-align: right;\n",
       "    }\n",
       "</style>\n",
       "<table border=\"1\" class=\"dataframe\">\n",
       "  <thead>\n",
       "    <tr style=\"text-align: right;\">\n",
       "      <th></th>\n",
       "      <th>Salary</th>\n",
       "      <th>Age</th>\n",
       "      <th>Working Hours</th>\n",
       "      <th>Retirement</th>\n",
       "    </tr>\n",
       "  </thead>\n",
       "  <tbody>\n",
       "    <tr>\n",
       "      <th>A</th>\n",
       "      <td>-0.553270</td>\n",
       "      <td>-1.651571</td>\n",
       "      <td>-1.676574</td>\n",
       "      <td>-2.204840</td>\n",
       "    </tr>\n",
       "    <tr>\n",
       "      <th>B</th>\n",
       "      <td>-2.355406</td>\n",
       "      <td>1.666731</td>\n",
       "      <td>-0.710741</td>\n",
       "      <td>-0.688675</td>\n",
       "    </tr>\n",
       "    <tr>\n",
       "      <th>C</th>\n",
       "      <td>-1.098463</td>\n",
       "      <td>-0.245017</td>\n",
       "      <td>-0.359146</td>\n",
       "      <td>-1.343480</td>\n",
       "    </tr>\n",
       "    <tr>\n",
       "      <th>D</th>\n",
       "      <td>2.169107</td>\n",
       "      <td>0.246241</td>\n",
       "      <td>-0.574487</td>\n",
       "      <td>2.415349</td>\n",
       "    </tr>\n",
       "  </tbody>\n",
       "</table>\n",
       "</div>"
      ],
      "text/plain": [
       "     Salary       Age  Working Hours  Retirement\n",
       "A -0.553270 -1.651571      -1.676574   -2.204840\n",
       "B -2.355406  1.666731      -0.710741   -0.688675\n",
       "C -1.098463 -0.245017      -0.359146   -1.343480\n",
       "D  2.169107  0.246241      -0.574487    2.415349"
      ]
     },
     "execution_count": 46,
     "metadata": {},
     "output_type": "execute_result"
    }
   ],
   "source": [
    "newDataFrame"
   ]
  },
  {
   "cell_type": "code",
   "execution_count": 48,
   "id": "7e7955eb",
   "metadata": {},
   "outputs": [
    {
     "data": {
      "text/html": [
       "<div>\n",
       "<style scoped>\n",
       "    .dataframe tbody tr th:only-of-type {\n",
       "        vertical-align: middle;\n",
       "    }\n",
       "\n",
       "    .dataframe tbody tr th {\n",
       "        vertical-align: top;\n",
       "    }\n",
       "\n",
       "    .dataframe thead th {\n",
       "        text-align: right;\n",
       "    }\n",
       "</style>\n",
       "<table border=\"1\" class=\"dataframe\">\n",
       "  <thead>\n",
       "    <tr style=\"text-align: right;\">\n",
       "      <th></th>\n",
       "      <th>Salary</th>\n",
       "      <th>Age</th>\n",
       "      <th>Working Hours</th>\n",
       "      <th>Retirement</th>\n",
       "    </tr>\n",
       "  </thead>\n",
       "  <tbody>\n",
       "    <tr>\n",
       "      <th>A</th>\n",
       "      <td>-0.553270</td>\n",
       "      <td>-1.651571</td>\n",
       "      <td>-1.676574</td>\n",
       "      <td>-2.204840</td>\n",
       "    </tr>\n",
       "    <tr>\n",
       "      <th>B</th>\n",
       "      <td>-2.355406</td>\n",
       "      <td>1.666731</td>\n",
       "      <td>-0.710741</td>\n",
       "      <td>-0.688675</td>\n",
       "    </tr>\n",
       "    <tr>\n",
       "      <th>C</th>\n",
       "      <td>-1.098463</td>\n",
       "      <td>-0.245017</td>\n",
       "      <td>-0.359146</td>\n",
       "      <td>-1.343480</td>\n",
       "    </tr>\n",
       "  </tbody>\n",
       "</table>\n",
       "</div>"
      ],
      "text/plain": [
       "     Salary       Age  Working Hours  Retirement\n",
       "A -0.553270 -1.651571      -1.676574   -2.204840\n",
       "B -2.355406  1.666731      -0.710741   -0.688675\n",
       "C -1.098463 -0.245017      -0.359146   -1.343480"
      ]
     },
     "execution_count": 48,
     "metadata": {},
     "output_type": "execute_result"
    }
   ],
   "source": [
    "# Drop the row\n",
    "newDataFrame.drop(\"D\")"
   ]
  },
  {
   "cell_type": "code",
   "execution_count": 47,
   "id": "826a8c39",
   "metadata": {},
   "outputs": [
    {
     "data": {
      "text/html": [
       "<div>\n",
       "<style scoped>\n",
       "    .dataframe tbody tr th:only-of-type {\n",
       "        vertical-align: middle;\n",
       "    }\n",
       "\n",
       "    .dataframe tbody tr th {\n",
       "        vertical-align: top;\n",
       "    }\n",
       "\n",
       "    .dataframe thead th {\n",
       "        text-align: right;\n",
       "    }\n",
       "</style>\n",
       "<table border=\"1\" class=\"dataframe\">\n",
       "  <thead>\n",
       "    <tr style=\"text-align: right;\">\n",
       "      <th></th>\n",
       "      <th>Salary</th>\n",
       "      <th>Age</th>\n",
       "      <th>Working Hours</th>\n",
       "    </tr>\n",
       "  </thead>\n",
       "  <tbody>\n",
       "    <tr>\n",
       "      <th>A</th>\n",
       "      <td>-0.553270</td>\n",
       "      <td>-1.651571</td>\n",
       "      <td>-1.676574</td>\n",
       "    </tr>\n",
       "    <tr>\n",
       "      <th>B</th>\n",
       "      <td>-2.355406</td>\n",
       "      <td>1.666731</td>\n",
       "      <td>-0.710741</td>\n",
       "    </tr>\n",
       "    <tr>\n",
       "      <th>C</th>\n",
       "      <td>-1.098463</td>\n",
       "      <td>-0.245017</td>\n",
       "      <td>-0.359146</td>\n",
       "    </tr>\n",
       "    <tr>\n",
       "      <th>D</th>\n",
       "      <td>2.169107</td>\n",
       "      <td>0.246241</td>\n",
       "      <td>-0.574487</td>\n",
       "    </tr>\n",
       "  </tbody>\n",
       "</table>\n",
       "</div>"
      ],
      "text/plain": [
       "     Salary       Age  Working Hours\n",
       "A -0.553270 -1.651571      -1.676574\n",
       "B -2.355406  1.666731      -0.710741\n",
       "C -1.098463 -0.245017      -0.359146\n",
       "D  2.169107  0.246241      -0.574487"
      ]
     },
     "execution_count": 47,
     "metadata": {},
     "output_type": "execute_result"
    }
   ],
   "source": [
    "# Drop column. Need to write axis\n",
    "newDataFrame.drop(\"Retirement\", axis = 1)"
   ]
  },
  {
   "cell_type": "code",
   "execution_count": 49,
   "id": "d4961bad",
   "metadata": {},
   "outputs": [],
   "source": [
    "# To apply the changes\n",
    "newDataFrame.drop(\"Retirement\", axis = 1, inplace = True) # default inplace is False"
   ]
  },
  {
   "cell_type": "code",
   "execution_count": 50,
   "id": "a35c9ab1",
   "metadata": {},
   "outputs": [
    {
     "data": {
      "text/html": [
       "<div>\n",
       "<style scoped>\n",
       "    .dataframe tbody tr th:only-of-type {\n",
       "        vertical-align: middle;\n",
       "    }\n",
       "\n",
       "    .dataframe tbody tr th {\n",
       "        vertical-align: top;\n",
       "    }\n",
       "\n",
       "    .dataframe thead th {\n",
       "        text-align: right;\n",
       "    }\n",
       "</style>\n",
       "<table border=\"1\" class=\"dataframe\">\n",
       "  <thead>\n",
       "    <tr style=\"text-align: right;\">\n",
       "      <th></th>\n",
       "      <th>Salary</th>\n",
       "      <th>Age</th>\n",
       "      <th>Working Hours</th>\n",
       "    </tr>\n",
       "  </thead>\n",
       "  <tbody>\n",
       "    <tr>\n",
       "      <th>A</th>\n",
       "      <td>-0.553270</td>\n",
       "      <td>-1.651571</td>\n",
       "      <td>-1.676574</td>\n",
       "    </tr>\n",
       "    <tr>\n",
       "      <th>B</th>\n",
       "      <td>-2.355406</td>\n",
       "      <td>1.666731</td>\n",
       "      <td>-0.710741</td>\n",
       "    </tr>\n",
       "    <tr>\n",
       "      <th>C</th>\n",
       "      <td>-1.098463</td>\n",
       "      <td>-0.245017</td>\n",
       "      <td>-0.359146</td>\n",
       "    </tr>\n",
       "    <tr>\n",
       "      <th>D</th>\n",
       "      <td>2.169107</td>\n",
       "      <td>0.246241</td>\n",
       "      <td>-0.574487</td>\n",
       "    </tr>\n",
       "  </tbody>\n",
       "</table>\n",
       "</div>"
      ],
      "text/plain": [
       "     Salary       Age  Working Hours\n",
       "A -0.553270 -1.651571      -1.676574\n",
       "B -2.355406  1.666731      -0.710741\n",
       "C -1.098463 -0.245017      -0.359146\n",
       "D  2.169107  0.246241      -0.574487"
      ]
     },
     "execution_count": 50,
     "metadata": {},
     "output_type": "execute_result"
    }
   ],
   "source": [
    "newDataFrame"
   ]
  },
  {
   "cell_type": "code",
   "execution_count": 53,
   "id": "58c9dff4",
   "metadata": {},
   "outputs": [
    {
     "data": {
      "text/plain": [
       "-1.6515707065004328"
      ]
     },
     "execution_count": 53,
     "metadata": {},
     "output_type": "execute_result"
    }
   ],
   "source": [
    "newDataFrame.loc[\"A\"][\"Age\"]"
   ]
  },
  {
   "cell_type": "code",
   "execution_count": 54,
   "id": "950967ad",
   "metadata": {},
   "outputs": [
    {
     "data": {
      "text/plain": [
       "-1.6515707065004328"
      ]
     },
     "execution_count": 54,
     "metadata": {},
     "output_type": "execute_result"
    }
   ],
   "source": [
    "newDataFrame.loc[\"A\",\"Age\"]"
   ]
  },
  {
   "cell_type": "code",
   "execution_count": 55,
   "id": "de80f0a1",
   "metadata": {},
   "outputs": [
    {
     "data": {
      "text/html": [
       "<div>\n",
       "<style scoped>\n",
       "    .dataframe tbody tr th:only-of-type {\n",
       "        vertical-align: middle;\n",
       "    }\n",
       "\n",
       "    .dataframe tbody tr th {\n",
       "        vertical-align: top;\n",
       "    }\n",
       "\n",
       "    .dataframe thead th {\n",
       "        text-align: right;\n",
       "    }\n",
       "</style>\n",
       "<table border=\"1\" class=\"dataframe\">\n",
       "  <thead>\n",
       "    <tr style=\"text-align: right;\">\n",
       "      <th></th>\n",
       "      <th>Salary</th>\n",
       "      <th>Age</th>\n",
       "      <th>Working Hours</th>\n",
       "    </tr>\n",
       "  </thead>\n",
       "  <tbody>\n",
       "    <tr>\n",
       "      <th>A</th>\n",
       "      <td>True</td>\n",
       "      <td>True</td>\n",
       "      <td>True</td>\n",
       "    </tr>\n",
       "    <tr>\n",
       "      <th>B</th>\n",
       "      <td>True</td>\n",
       "      <td>False</td>\n",
       "      <td>True</td>\n",
       "    </tr>\n",
       "    <tr>\n",
       "      <th>C</th>\n",
       "      <td>True</td>\n",
       "      <td>True</td>\n",
       "      <td>True</td>\n",
       "    </tr>\n",
       "    <tr>\n",
       "      <th>D</th>\n",
       "      <td>False</td>\n",
       "      <td>False</td>\n",
       "      <td>True</td>\n",
       "    </tr>\n",
       "  </tbody>\n",
       "</table>\n",
       "</div>"
      ],
      "text/plain": [
       "   Salary    Age  Working Hours\n",
       "A    True   True           True\n",
       "B    True  False           True\n",
       "C    True   True           True\n",
       "D   False  False           True"
      ]
     },
     "execution_count": 55,
     "metadata": {},
     "output_type": "execute_result"
    }
   ],
   "source": [
    "newDataFrame < 0"
   ]
  },
  {
   "cell_type": "code",
   "execution_count": 56,
   "id": "2cbc1aea",
   "metadata": {},
   "outputs": [],
   "source": [
    "booleanFrame = newDataFrame < 0"
   ]
  },
  {
   "cell_type": "code",
   "execution_count": 57,
   "id": "10c3d7a3",
   "metadata": {},
   "outputs": [
    {
     "data": {
      "text/html": [
       "<div>\n",
       "<style scoped>\n",
       "    .dataframe tbody tr th:only-of-type {\n",
       "        vertical-align: middle;\n",
       "    }\n",
       "\n",
       "    .dataframe tbody tr th {\n",
       "        vertical-align: top;\n",
       "    }\n",
       "\n",
       "    .dataframe thead th {\n",
       "        text-align: right;\n",
       "    }\n",
       "</style>\n",
       "<table border=\"1\" class=\"dataframe\">\n",
       "  <thead>\n",
       "    <tr style=\"text-align: right;\">\n",
       "      <th></th>\n",
       "      <th>Salary</th>\n",
       "      <th>Age</th>\n",
       "      <th>Working Hours</th>\n",
       "    </tr>\n",
       "  </thead>\n",
       "  <tbody>\n",
       "    <tr>\n",
       "      <th>A</th>\n",
       "      <td>True</td>\n",
       "      <td>True</td>\n",
       "      <td>True</td>\n",
       "    </tr>\n",
       "    <tr>\n",
       "      <th>B</th>\n",
       "      <td>True</td>\n",
       "      <td>False</td>\n",
       "      <td>True</td>\n",
       "    </tr>\n",
       "    <tr>\n",
       "      <th>C</th>\n",
       "      <td>True</td>\n",
       "      <td>True</td>\n",
       "      <td>True</td>\n",
       "    </tr>\n",
       "    <tr>\n",
       "      <th>D</th>\n",
       "      <td>False</td>\n",
       "      <td>False</td>\n",
       "      <td>True</td>\n",
       "    </tr>\n",
       "  </tbody>\n",
       "</table>\n",
       "</div>"
      ],
      "text/plain": [
       "   Salary    Age  Working Hours\n",
       "A    True   True           True\n",
       "B    True  False           True\n",
       "C    True   True           True\n",
       "D   False  False           True"
      ]
     },
     "execution_count": 57,
     "metadata": {},
     "output_type": "execute_result"
    }
   ],
   "source": [
    "booleanFrame"
   ]
  },
  {
   "cell_type": "code",
   "execution_count": 58,
   "id": "328018e4",
   "metadata": {},
   "outputs": [
    {
     "data": {
      "text/html": [
       "<div>\n",
       "<style scoped>\n",
       "    .dataframe tbody tr th:only-of-type {\n",
       "        vertical-align: middle;\n",
       "    }\n",
       "\n",
       "    .dataframe tbody tr th {\n",
       "        vertical-align: top;\n",
       "    }\n",
       "\n",
       "    .dataframe thead th {\n",
       "        text-align: right;\n",
       "    }\n",
       "</style>\n",
       "<table border=\"1\" class=\"dataframe\">\n",
       "  <thead>\n",
       "    <tr style=\"text-align: right;\">\n",
       "      <th></th>\n",
       "      <th>Salary</th>\n",
       "      <th>Age</th>\n",
       "      <th>Working Hours</th>\n",
       "    </tr>\n",
       "  </thead>\n",
       "  <tbody>\n",
       "    <tr>\n",
       "      <th>A</th>\n",
       "      <td>-0.553270</td>\n",
       "      <td>-1.651571</td>\n",
       "      <td>-1.676574</td>\n",
       "    </tr>\n",
       "    <tr>\n",
       "      <th>B</th>\n",
       "      <td>-2.355406</td>\n",
       "      <td>NaN</td>\n",
       "      <td>-0.710741</td>\n",
       "    </tr>\n",
       "    <tr>\n",
       "      <th>C</th>\n",
       "      <td>-1.098463</td>\n",
       "      <td>-0.245017</td>\n",
       "      <td>-0.359146</td>\n",
       "    </tr>\n",
       "    <tr>\n",
       "      <th>D</th>\n",
       "      <td>NaN</td>\n",
       "      <td>NaN</td>\n",
       "      <td>-0.574487</td>\n",
       "    </tr>\n",
       "  </tbody>\n",
       "</table>\n",
       "</div>"
      ],
      "text/plain": [
       "     Salary       Age  Working Hours\n",
       "A -0.553270 -1.651571      -1.676574\n",
       "B -2.355406       NaN      -0.710741\n",
       "C -1.098463 -0.245017      -0.359146\n",
       "D       NaN       NaN      -0.574487"
      ]
     },
     "execution_count": 58,
     "metadata": {},
     "output_type": "execute_result"
    }
   ],
   "source": [
    "newDataFrame[booleanFrame] # it shows only values < 0"
   ]
  },
  {
   "cell_type": "code",
   "execution_count": 59,
   "id": "113e37c6",
   "metadata": {},
   "outputs": [
    {
     "data": {
      "text/html": [
       "<div>\n",
       "<style scoped>\n",
       "    .dataframe tbody tr th:only-of-type {\n",
       "        vertical-align: middle;\n",
       "    }\n",
       "\n",
       "    .dataframe tbody tr th {\n",
       "        vertical-align: top;\n",
       "    }\n",
       "\n",
       "    .dataframe thead th {\n",
       "        text-align: right;\n",
       "    }\n",
       "</style>\n",
       "<table border=\"1\" class=\"dataframe\">\n",
       "  <thead>\n",
       "    <tr style=\"text-align: right;\">\n",
       "      <th></th>\n",
       "      <th>Salary</th>\n",
       "      <th>Age</th>\n",
       "      <th>Working Hours</th>\n",
       "    </tr>\n",
       "  </thead>\n",
       "  <tbody>\n",
       "    <tr>\n",
       "      <th>A</th>\n",
       "      <td>NaN</td>\n",
       "      <td>NaN</td>\n",
       "      <td>NaN</td>\n",
       "    </tr>\n",
       "    <tr>\n",
       "      <th>B</th>\n",
       "      <td>NaN</td>\n",
       "      <td>1.666731</td>\n",
       "      <td>NaN</td>\n",
       "    </tr>\n",
       "    <tr>\n",
       "      <th>C</th>\n",
       "      <td>NaN</td>\n",
       "      <td>NaN</td>\n",
       "      <td>NaN</td>\n",
       "    </tr>\n",
       "    <tr>\n",
       "      <th>D</th>\n",
       "      <td>2.169107</td>\n",
       "      <td>0.246241</td>\n",
       "      <td>NaN</td>\n",
       "    </tr>\n",
       "  </tbody>\n",
       "</table>\n",
       "</div>"
      ],
      "text/plain": [
       "     Salary       Age  Working Hours\n",
       "A       NaN       NaN            NaN\n",
       "B       NaN  1.666731            NaN\n",
       "C       NaN       NaN            NaN\n",
       "D  2.169107  0.246241            NaN"
      ]
     },
     "execution_count": 59,
     "metadata": {},
     "output_type": "execute_result"
    }
   ],
   "source": [
    "newDataFrame[newDataFrame > 0] # this is also an anternative option"
   ]
  },
  {
   "cell_type": "code",
   "execution_count": 60,
   "id": "22504fb7",
   "metadata": {},
   "outputs": [
    {
     "data": {
      "text/html": [
       "<div>\n",
       "<style scoped>\n",
       "    .dataframe tbody tr th:only-of-type {\n",
       "        vertical-align: middle;\n",
       "    }\n",
       "\n",
       "    .dataframe tbody tr th {\n",
       "        vertical-align: top;\n",
       "    }\n",
       "\n",
       "    .dataframe thead th {\n",
       "        text-align: right;\n",
       "    }\n",
       "</style>\n",
       "<table border=\"1\" class=\"dataframe\">\n",
       "  <thead>\n",
       "    <tr style=\"text-align: right;\">\n",
       "      <th></th>\n",
       "      <th>Salary</th>\n",
       "      <th>Age</th>\n",
       "      <th>Working Hours</th>\n",
       "    </tr>\n",
       "  </thead>\n",
       "  <tbody>\n",
       "    <tr>\n",
       "      <th>B</th>\n",
       "      <td>-2.355406</td>\n",
       "      <td>1.666731</td>\n",
       "      <td>-0.710741</td>\n",
       "    </tr>\n",
       "    <tr>\n",
       "      <th>D</th>\n",
       "      <td>2.169107</td>\n",
       "      <td>0.246241</td>\n",
       "      <td>-0.574487</td>\n",
       "    </tr>\n",
       "  </tbody>\n",
       "</table>\n",
       "</div>"
      ],
      "text/plain": [
       "     Salary       Age  Working Hours\n",
       "B -2.355406  1.666731      -0.710741\n",
       "D  2.169107  0.246241      -0.574487"
      ]
     },
     "execution_count": 60,
     "metadata": {},
     "output_type": "execute_result"
    }
   ],
   "source": [
    "newDataFrame[newDataFrame[\"Age\"] > 0]"
   ]
  },
  {
   "cell_type": "code",
   "execution_count": 61,
   "id": "527b5573",
   "metadata": {},
   "outputs": [
    {
     "data": {
      "text/html": [
       "<div>\n",
       "<style scoped>\n",
       "    .dataframe tbody tr th:only-of-type {\n",
       "        vertical-align: middle;\n",
       "    }\n",
       "\n",
       "    .dataframe tbody tr th {\n",
       "        vertical-align: top;\n",
       "    }\n",
       "\n",
       "    .dataframe thead th {\n",
       "        text-align: right;\n",
       "    }\n",
       "</style>\n",
       "<table border=\"1\" class=\"dataframe\">\n",
       "  <thead>\n",
       "    <tr style=\"text-align: right;\">\n",
       "      <th></th>\n",
       "      <th>index</th>\n",
       "      <th>Salary</th>\n",
       "      <th>Age</th>\n",
       "      <th>Working Hours</th>\n",
       "    </tr>\n",
       "  </thead>\n",
       "  <tbody>\n",
       "    <tr>\n",
       "      <th>0</th>\n",
       "      <td>A</td>\n",
       "      <td>-0.553270</td>\n",
       "      <td>-1.651571</td>\n",
       "      <td>-1.676574</td>\n",
       "    </tr>\n",
       "    <tr>\n",
       "      <th>1</th>\n",
       "      <td>B</td>\n",
       "      <td>-2.355406</td>\n",
       "      <td>1.666731</td>\n",
       "      <td>-0.710741</td>\n",
       "    </tr>\n",
       "    <tr>\n",
       "      <th>2</th>\n",
       "      <td>C</td>\n",
       "      <td>-1.098463</td>\n",
       "      <td>-0.245017</td>\n",
       "      <td>-0.359146</td>\n",
       "    </tr>\n",
       "    <tr>\n",
       "      <th>3</th>\n",
       "      <td>D</td>\n",
       "      <td>2.169107</td>\n",
       "      <td>0.246241</td>\n",
       "      <td>-0.574487</td>\n",
       "    </tr>\n",
       "  </tbody>\n",
       "</table>\n",
       "</div>"
      ],
      "text/plain": [
       "  index    Salary       Age  Working Hours\n",
       "0     A -0.553270 -1.651571      -1.676574\n",
       "1     B -2.355406  1.666731      -0.710741\n",
       "2     C -1.098463 -0.245017      -0.359146\n",
       "3     D  2.169107  0.246241      -0.574487"
      ]
     },
     "execution_count": 61,
     "metadata": {},
     "output_type": "execute_result"
    }
   ],
   "source": [
    "newDataFrame.reset_index() # it resents indexes without inplace it doesn't change the original"
   ]
  },
  {
   "cell_type": "code",
   "execution_count": 62,
   "id": "6207f9db",
   "metadata": {},
   "outputs": [],
   "source": [
    "newIndexList = [\"Onur\", \"Ayse\", \"Berk\", \"Ipek\"]"
   ]
  },
  {
   "cell_type": "code",
   "execution_count": 63,
   "id": "5bdb3a1e",
   "metadata": {},
   "outputs": [],
   "source": [
    "newDataFrame[\"New Index\"] = newIndexList"
   ]
  },
  {
   "cell_type": "code",
   "execution_count": 64,
   "id": "14422a97",
   "metadata": {},
   "outputs": [
    {
     "data": {
      "text/html": [
       "<div>\n",
       "<style scoped>\n",
       "    .dataframe tbody tr th:only-of-type {\n",
       "        vertical-align: middle;\n",
       "    }\n",
       "\n",
       "    .dataframe tbody tr th {\n",
       "        vertical-align: top;\n",
       "    }\n",
       "\n",
       "    .dataframe thead th {\n",
       "        text-align: right;\n",
       "    }\n",
       "</style>\n",
       "<table border=\"1\" class=\"dataframe\">\n",
       "  <thead>\n",
       "    <tr style=\"text-align: right;\">\n",
       "      <th></th>\n",
       "      <th>Salary</th>\n",
       "      <th>Age</th>\n",
       "      <th>Working Hours</th>\n",
       "      <th>New Index</th>\n",
       "    </tr>\n",
       "  </thead>\n",
       "  <tbody>\n",
       "    <tr>\n",
       "      <th>A</th>\n",
       "      <td>-0.553270</td>\n",
       "      <td>-1.651571</td>\n",
       "      <td>-1.676574</td>\n",
       "      <td>Onur</td>\n",
       "    </tr>\n",
       "    <tr>\n",
       "      <th>B</th>\n",
       "      <td>-2.355406</td>\n",
       "      <td>1.666731</td>\n",
       "      <td>-0.710741</td>\n",
       "      <td>Ayse</td>\n",
       "    </tr>\n",
       "    <tr>\n",
       "      <th>C</th>\n",
       "      <td>-1.098463</td>\n",
       "      <td>-0.245017</td>\n",
       "      <td>-0.359146</td>\n",
       "      <td>Berk</td>\n",
       "    </tr>\n",
       "    <tr>\n",
       "      <th>D</th>\n",
       "      <td>2.169107</td>\n",
       "      <td>0.246241</td>\n",
       "      <td>-0.574487</td>\n",
       "      <td>Ipek</td>\n",
       "    </tr>\n",
       "  </tbody>\n",
       "</table>\n",
       "</div>"
      ],
      "text/plain": [
       "     Salary       Age  Working Hours New Index\n",
       "A -0.553270 -1.651571      -1.676574      Onur\n",
       "B -2.355406  1.666731      -0.710741      Ayse\n",
       "C -1.098463 -0.245017      -0.359146      Berk\n",
       "D  2.169107  0.246241      -0.574487      Ipek"
      ]
     },
     "execution_count": 64,
     "metadata": {},
     "output_type": "execute_result"
    }
   ],
   "source": [
    "newDataFrame"
   ]
  },
  {
   "cell_type": "code",
   "execution_count": 65,
   "id": "b30ae1d6",
   "metadata": {},
   "outputs": [
    {
     "data": {
      "text/html": [
       "<div>\n",
       "<style scoped>\n",
       "    .dataframe tbody tr th:only-of-type {\n",
       "        vertical-align: middle;\n",
       "    }\n",
       "\n",
       "    .dataframe tbody tr th {\n",
       "        vertical-align: top;\n",
       "    }\n",
       "\n",
       "    .dataframe thead th {\n",
       "        text-align: right;\n",
       "    }\n",
       "</style>\n",
       "<table border=\"1\" class=\"dataframe\">\n",
       "  <thead>\n",
       "    <tr style=\"text-align: right;\">\n",
       "      <th></th>\n",
       "      <th>Salary</th>\n",
       "      <th>Age</th>\n",
       "      <th>Working Hours</th>\n",
       "    </tr>\n",
       "    <tr>\n",
       "      <th>New Index</th>\n",
       "      <th></th>\n",
       "      <th></th>\n",
       "      <th></th>\n",
       "    </tr>\n",
       "  </thead>\n",
       "  <tbody>\n",
       "    <tr>\n",
       "      <th>Onur</th>\n",
       "      <td>-0.553270</td>\n",
       "      <td>-1.651571</td>\n",
       "      <td>-1.676574</td>\n",
       "    </tr>\n",
       "    <tr>\n",
       "      <th>Ayse</th>\n",
       "      <td>-2.355406</td>\n",
       "      <td>1.666731</td>\n",
       "      <td>-0.710741</td>\n",
       "    </tr>\n",
       "    <tr>\n",
       "      <th>Berk</th>\n",
       "      <td>-1.098463</td>\n",
       "      <td>-0.245017</td>\n",
       "      <td>-0.359146</td>\n",
       "    </tr>\n",
       "    <tr>\n",
       "      <th>Ipek</th>\n",
       "      <td>2.169107</td>\n",
       "      <td>0.246241</td>\n",
       "      <td>-0.574487</td>\n",
       "    </tr>\n",
       "  </tbody>\n",
       "</table>\n",
       "</div>"
      ],
      "text/plain": [
       "             Salary       Age  Working Hours\n",
       "New Index                                   \n",
       "Onur      -0.553270 -1.651571      -1.676574\n",
       "Ayse      -2.355406  1.666731      -0.710741\n",
       "Berk      -1.098463 -0.245017      -0.359146\n",
       "Ipek       2.169107  0.246241      -0.574487"
      ]
     },
     "execution_count": 65,
     "metadata": {},
     "output_type": "execute_result"
    }
   ],
   "source": [
    "newDataFrame.set_index(\"New Index\") # it will pick new index as index, inplace is False by default"
   ]
  },
  {
   "cell_type": "code",
   "execution_count": 66,
   "id": "38b14237",
   "metadata": {},
   "outputs": [],
   "source": [
    "newDataFrame.set_index(\"New Index\", inplace=True)"
   ]
  },
  {
   "cell_type": "code",
   "execution_count": 69,
   "id": "33e4c5b9",
   "metadata": {},
   "outputs": [
    {
     "data": {
      "text/plain": [
       "Salary          -0.553270\n",
       "Age             -1.651571\n",
       "Working Hours   -1.676574\n",
       "Name: Onur, dtype: float64"
      ]
     },
     "execution_count": 69,
     "metadata": {},
     "output_type": "execute_result"
    }
   ],
   "source": [
    "newDataFrame.loc[\"Onur\"]"
   ]
  },
  {
   "cell_type": "code",
   "execution_count": 80,
   "id": "58a4ceec",
   "metadata": {},
   "outputs": [],
   "source": [
    "firstIndex = [\"Simpson\",\"Simpson\",\"Simpson\",\"South Park\",\"South Park\",\"South Park\"]\n",
    "inIndex = [\"Homer\",\"Bart\",\"Marge\",\"Cartman\",\"Kenny\",\"Kyle\"]"
   ]
  },
  {
   "cell_type": "code",
   "execution_count": 81,
   "id": "0c3cb352",
   "metadata": {},
   "outputs": [],
   "source": [
    "unitedIndex = list(zip(firstIndex,inIndex)) # It unites both list"
   ]
  },
  {
   "cell_type": "code",
   "execution_count": 82,
   "id": "c7d72719",
   "metadata": {},
   "outputs": [
    {
     "data": {
      "text/plain": [
       "[('Simpson', 'Homer'),\n",
       " ('Simpson', 'Bart'),\n",
       " ('Simpson', 'Marge'),\n",
       " ('South Park', 'Cartman'),\n",
       " ('South Park', 'Kenny'),\n",
       " ('South Park', 'Kyle')]"
      ]
     },
     "execution_count": 82,
     "metadata": {},
     "output_type": "execute_result"
    }
   ],
   "source": [
    "unitedIndex"
   ]
  },
  {
   "cell_type": "code",
   "execution_count": 83,
   "id": "23109054",
   "metadata": {},
   "outputs": [],
   "source": [
    "unitedIndex = pd.MultiIndex.from_tuples(unitedIndex) # it gives multi-index"
   ]
  },
  {
   "cell_type": "code",
   "execution_count": 84,
   "id": "5db6bddd",
   "metadata": {},
   "outputs": [
    {
     "data": {
      "text/plain": [
       "MultiIndex([(   'Simpson',   'Homer'),\n",
       "            (   'Simpson',    'Bart'),\n",
       "            (   'Simpson',   'Marge'),\n",
       "            ('South Park', 'Cartman'),\n",
       "            ('South Park',   'Kenny'),\n",
       "            ('South Park',    'Kyle')],\n",
       "           )"
      ]
     },
     "execution_count": 84,
     "metadata": {},
     "output_type": "execute_result"
    }
   ],
   "source": [
    "unitedIndex"
   ]
  },
  {
   "cell_type": "code",
   "execution_count": 85,
   "id": "d99c86de",
   "metadata": {},
   "outputs": [],
   "source": [
    "myCartoons = [[40,\"A\"],[30,\"C\"],[10,\"B\"],[9,\"D\"],[10,\"E\"],[11,\"F\"]] # Assign values"
   ]
  },
  {
   "cell_type": "code",
   "execution_count": 86,
   "id": "52f9b069",
   "metadata": {},
   "outputs": [],
   "source": [
    "cartoonNumpyArray = np.array(myCartoons)"
   ]
  },
  {
   "cell_type": "code",
   "execution_count": 87,
   "id": "879a9b85",
   "metadata": {},
   "outputs": [],
   "source": [
    "cartoonDataFrame = pd.DataFrame(cartoonNumpyArray,index=unitedIndex,columns=[\"Age\",\"Job\"])"
   ]
  },
  {
   "cell_type": "code",
   "execution_count": 88,
   "id": "0d7d834b",
   "metadata": {},
   "outputs": [
    {
     "data": {
      "text/html": [
       "<div>\n",
       "<style scoped>\n",
       "    .dataframe tbody tr th:only-of-type {\n",
       "        vertical-align: middle;\n",
       "    }\n",
       "\n",
       "    .dataframe tbody tr th {\n",
       "        vertical-align: top;\n",
       "    }\n",
       "\n",
       "    .dataframe thead th {\n",
       "        text-align: right;\n",
       "    }\n",
       "</style>\n",
       "<table border=\"1\" class=\"dataframe\">\n",
       "  <thead>\n",
       "    <tr style=\"text-align: right;\">\n",
       "      <th></th>\n",
       "      <th></th>\n",
       "      <th>Age</th>\n",
       "      <th>Job</th>\n",
       "    </tr>\n",
       "  </thead>\n",
       "  <tbody>\n",
       "    <tr>\n",
       "      <th rowspan=\"3\" valign=\"top\">Simpson</th>\n",
       "      <th>Homer</th>\n",
       "      <td>40</td>\n",
       "      <td>A</td>\n",
       "    </tr>\n",
       "    <tr>\n",
       "      <th>Bart</th>\n",
       "      <td>30</td>\n",
       "      <td>C</td>\n",
       "    </tr>\n",
       "    <tr>\n",
       "      <th>Marge</th>\n",
       "      <td>10</td>\n",
       "      <td>B</td>\n",
       "    </tr>\n",
       "    <tr>\n",
       "      <th rowspan=\"3\" valign=\"top\">South Park</th>\n",
       "      <th>Cartman</th>\n",
       "      <td>9</td>\n",
       "      <td>D</td>\n",
       "    </tr>\n",
       "    <tr>\n",
       "      <th>Kenny</th>\n",
       "      <td>10</td>\n",
       "      <td>E</td>\n",
       "    </tr>\n",
       "    <tr>\n",
       "      <th>Kyle</th>\n",
       "      <td>11</td>\n",
       "      <td>F</td>\n",
       "    </tr>\n",
       "  </tbody>\n",
       "</table>\n",
       "</div>"
      ],
      "text/plain": [
       "                   Age Job\n",
       "Simpson    Homer    40   A\n",
       "           Bart     30   C\n",
       "           Marge    10   B\n",
       "South Park Cartman   9   D\n",
       "           Kenny    10   E\n",
       "           Kyle     11   F"
      ]
     },
     "execution_count": 88,
     "metadata": {},
     "output_type": "execute_result"
    }
   ],
   "source": [
    "cartoonDataFrame"
   ]
  },
  {
   "cell_type": "code",
   "execution_count": 91,
   "id": "d0993743",
   "metadata": {},
   "outputs": [
    {
     "data": {
      "text/plain": [
       "Age    30\n",
       "Job     C\n",
       "Name: Bart, dtype: object"
      ]
     },
     "execution_count": 91,
     "metadata": {},
     "output_type": "execute_result"
    }
   ],
   "source": [
    "cartoonDataFrame.loc[\"Simpson\"].loc[\"Bart\"]"
   ]
  },
  {
   "cell_type": "code",
   "execution_count": 95,
   "id": "216ab20e",
   "metadata": {},
   "outputs": [],
   "source": [
    "cartoonDataFrame.index.names = [\"Cartoon\", \"Name\"]"
   ]
  },
  {
   "cell_type": "code",
   "execution_count": 96,
   "id": "a1c17380",
   "metadata": {},
   "outputs": [
    {
     "data": {
      "text/html": [
       "<div>\n",
       "<style scoped>\n",
       "    .dataframe tbody tr th:only-of-type {\n",
       "        vertical-align: middle;\n",
       "    }\n",
       "\n",
       "    .dataframe tbody tr th {\n",
       "        vertical-align: top;\n",
       "    }\n",
       "\n",
       "    .dataframe thead th {\n",
       "        text-align: right;\n",
       "    }\n",
       "</style>\n",
       "<table border=\"1\" class=\"dataframe\">\n",
       "  <thead>\n",
       "    <tr style=\"text-align: right;\">\n",
       "      <th></th>\n",
       "      <th></th>\n",
       "      <th>Age</th>\n",
       "      <th>Job</th>\n",
       "    </tr>\n",
       "    <tr>\n",
       "      <th>Cartoon</th>\n",
       "      <th>Name</th>\n",
       "      <th></th>\n",
       "      <th></th>\n",
       "    </tr>\n",
       "  </thead>\n",
       "  <tbody>\n",
       "    <tr>\n",
       "      <th rowspan=\"3\" valign=\"top\">Simpson</th>\n",
       "      <th>Homer</th>\n",
       "      <td>40</td>\n",
       "      <td>A</td>\n",
       "    </tr>\n",
       "    <tr>\n",
       "      <th>Bart</th>\n",
       "      <td>30</td>\n",
       "      <td>C</td>\n",
       "    </tr>\n",
       "    <tr>\n",
       "      <th>Marge</th>\n",
       "      <td>10</td>\n",
       "      <td>B</td>\n",
       "    </tr>\n",
       "    <tr>\n",
       "      <th rowspan=\"3\" valign=\"top\">South Park</th>\n",
       "      <th>Cartman</th>\n",
       "      <td>9</td>\n",
       "      <td>D</td>\n",
       "    </tr>\n",
       "    <tr>\n",
       "      <th>Kenny</th>\n",
       "      <td>10</td>\n",
       "      <td>E</td>\n",
       "    </tr>\n",
       "    <tr>\n",
       "      <th>Kyle</th>\n",
       "      <td>11</td>\n",
       "      <td>F</td>\n",
       "    </tr>\n",
       "  </tbody>\n",
       "</table>\n",
       "</div>"
      ],
      "text/plain": [
       "                   Age Job\n",
       "Cartoon    Name           \n",
       "Simpson    Homer    40   A\n",
       "           Bart     30   C\n",
       "           Marge    10   B\n",
       "South Park Cartman   9   D\n",
       "           Kenny    10   E\n",
       "           Kyle     11   F"
      ]
     },
     "execution_count": 96,
     "metadata": {},
     "output_type": "execute_result"
    }
   ],
   "source": [
    "cartoonDataFrame"
   ]
  },
  {
   "cell_type": "code",
   "execution_count": null,
   "id": "60263e81",
   "metadata": {},
   "outputs": [],
   "source": []
  }
 ],
 "metadata": {
  "kernelspec": {
   "display_name": "Python 3 (ipykernel)",
   "language": "python",
   "name": "python3"
  },
  "language_info": {
   "codemirror_mode": {
    "name": "ipython",
    "version": 3
   },
   "file_extension": ".py",
   "mimetype": "text/x-python",
   "name": "python",
   "nbconvert_exporter": "python",
   "pygments_lexer": "ipython3",
   "version": "3.9.7"
  }
 },
 "nbformat": 4,
 "nbformat_minor": 5
}
