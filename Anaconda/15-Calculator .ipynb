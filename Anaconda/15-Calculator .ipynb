{
 "cells": [
  {
   "cell_type": "code",
   "execution_count": null,
   "id": "ec1b4b42",
   "metadata": {},
   "outputs": [
    {
     "name": "stdout",
     "output_type": "stream",
     "text": [
      "First Num: onur\n",
      "Please enter a number\n",
      "First Num: 40\n",
      "Second Num: 20\n",
      "Choose one: +, -, *, /+\n",
      "40 + 20 = 60\n",
      "Please enter a number\n"
     ]
    }
   ],
   "source": [
    "## Simple Calculator with functions\n",
    "def calc(a,b,c):\n",
    "    \n",
    "    if c not in \"+-*/\":\n",
    "        return \"Please choose one: +, -, *, /\"\n",
    "    \n",
    "    if c == \"+\":\n",
    "        return (str(a) + \" + \" + str(b) + \" = \" + str(a+b))\n",
    "    if c == \"-\":\n",
    "        return (str(a) + \" - \" + str(b) + \" = \" + str(a-b))\n",
    "    if c == \"*\":\n",
    "        return (str(a) + \" * \" + str(b) + \" = \" + str(a*b))\n",
    "    if c == \"/\":\n",
    "        return (str(a) + \" / \" + str(b) + \" = \" + str(a/b))\n",
    "    \n",
    "while True:\n",
    "    try:\n",
    "        a = int(input(\"First Num: \"))\n",
    "        b = int(input(\"Second Num: \"))\n",
    "        c = input(\"Choose one: +, -, *, /\")\n",
    "        print(calc(a,b,c))\n",
    "    except:\n",
    "        print(\"Please enter a number\")"
   ]
  },
  {
   "cell_type": "code",
   "execution_count": null,
   "id": "5ea5576a",
   "metadata": {},
   "outputs": [],
   "source": []
  }
 ],
 "metadata": {
  "kernelspec": {
   "display_name": "Python 3 (ipykernel)",
   "language": "python",
   "name": "python3"
  },
  "language_info": {
   "codemirror_mode": {
    "name": "ipython",
    "version": 3
   },
   "file_extension": ".py",
   "mimetype": "text/x-python",
   "name": "python",
   "nbconvert_exporter": "python",
   "pygments_lexer": "ipython3",
   "version": "3.9.7"
  }
 },
 "nbformat": 4,
 "nbformat_minor": 5
}
