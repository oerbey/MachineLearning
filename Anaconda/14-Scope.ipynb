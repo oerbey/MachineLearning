{
 "cells": [
  {
   "cell_type": "code",
   "execution_count": 1,
   "id": "dc324c63",
   "metadata": {},
   "outputs": [],
   "source": [
    "num = 20\n",
    "\n",
    "def mult(n):\n",
    "    num = 10\n",
    "    return n * num"
   ]
  },
  {
   "cell_type": "code",
   "execution_count": 3,
   "id": "f6fc8b90",
   "metadata": {},
   "outputs": [
    {
     "name": "stdout",
     "output_type": "stream",
     "text": [
      "50\n",
      "20\n"
     ]
    }
   ],
   "source": [
    "print(mult(5))\n",
    "print(num)"
   ]
  },
  {
   "cell_type": "markdown",
   "id": "bcdf8ea0",
   "metadata": {},
   "source": [
    "## Local, Enclosing, Global, Build-In"
   ]
  },
  {
   "cell_type": "code",
   "execution_count": 10,
   "id": "3036be3d",
   "metadata": {},
   "outputs": [],
   "source": [
    "#Global\n",
    "myName = \"Onur\"\n",
    "\n",
    "def myFunc():\n",
    "    myName = \"Elton\"\n",
    "    #Enclosing\n",
    "    def inFunc():\n",
    "        myName = \"Ayşe\"\n",
    "        # Local\n",
    "        print(myName)\n",
    "    inFunc()"
   ]
  },
  {
   "cell_type": "code",
   "execution_count": 11,
   "id": "8f18e1d0",
   "metadata": {},
   "outputs": [
    {
     "name": "stdout",
     "output_type": "stream",
     "text": [
      "Ayşe\n"
     ]
    }
   ],
   "source": [
    "myFunc()"
   ]
  },
  {
   "cell_type": "code",
   "execution_count": 12,
   "id": "f064e042",
   "metadata": {},
   "outputs": [],
   "source": [
    "y = 10\n",
    "\n",
    "def newFunc(y):\n",
    "    print(y)\n",
    "    y = 5\n",
    "    print(y)\n",
    "    return(y)"
   ]
  },
  {
   "cell_type": "code",
   "execution_count": 13,
   "id": "0c409f56",
   "metadata": {},
   "outputs": [
    {
     "name": "stdout",
     "output_type": "stream",
     "text": [
      "3\n",
      "5\n"
     ]
    },
    {
     "data": {
      "text/plain": [
       "5"
      ]
     },
     "execution_count": 13,
     "metadata": {},
     "output_type": "execute_result"
    }
   ],
   "source": [
    "newFunc(3)"
   ]
  },
  {
   "cell_type": "code",
   "execution_count": 14,
   "id": "edc331f5",
   "metadata": {},
   "outputs": [
    {
     "name": "stdout",
     "output_type": "stream",
     "text": [
      "3\n",
      "5\n"
     ]
    }
   ],
   "source": [
    "y = newFunc(3)"
   ]
  },
  {
   "cell_type": "code",
   "execution_count": 15,
   "id": "1691b5b7",
   "metadata": {},
   "outputs": [
    {
     "name": "stdout",
     "output_type": "stream",
     "text": [
      "5\n"
     ]
    }
   ],
   "source": [
    "print(y)"
   ]
  },
  {
   "cell_type": "code",
   "execution_count": 17,
   "id": "2c101ba2",
   "metadata": {},
   "outputs": [],
   "source": [
    "y = 10\n",
    "\n",
    "def egFunc():\n",
    "    global y\n",
    "    y = 5\n",
    "    print(y)"
   ]
  },
  {
   "cell_type": "code",
   "execution_count": 19,
   "id": "d4903195",
   "metadata": {},
   "outputs": [
    {
     "name": "stdout",
     "output_type": "stream",
     "text": [
      "5\n"
     ]
    }
   ],
   "source": [
    "egFunc()"
   ]
  },
  {
   "cell_type": "code",
   "execution_count": 20,
   "id": "52e6a91b",
   "metadata": {},
   "outputs": [
    {
     "data": {
      "text/plain": [
       "5"
      ]
     },
     "execution_count": 20,
     "metadata": {},
     "output_type": "execute_result"
    }
   ],
   "source": [
    "y"
   ]
  },
  {
   "cell_type": "code",
   "execution_count": null,
   "id": "1f249a1d",
   "metadata": {},
   "outputs": [],
   "source": []
  }
 ],
 "metadata": {
  "kernelspec": {
   "display_name": "Python 3 (ipykernel)",
   "language": "python",
   "name": "python3"
  },
  "language_info": {
   "codemirror_mode": {
    "name": "ipython",
    "version": 3
   },
   "file_extension": ".py",
   "mimetype": "text/x-python",
   "name": "python",
   "nbconvert_exporter": "python",
   "pygments_lexer": "ipython3",
   "version": "3.9.7"
  }
 },
 "nbformat": 4,
 "nbformat_minor": 5
}
